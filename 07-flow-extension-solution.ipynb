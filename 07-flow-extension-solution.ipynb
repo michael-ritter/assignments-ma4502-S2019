{
 "cells": [
  {
   "cell_type": "markdown",
   "metadata": {},
   "source": [
    "# Import Problem Instance\n",
    "We start by importing a simple problem instance to demonstrate the tsplib reader.\n"
   ]
  },
  {
   "cell_type": "code",
   "execution_count": 1,
   "metadata": {},
   "outputs": [
    {
     "data": {
      "text/plain": [
       "'Odyssey of Ulysses (Groetschel/Padberg)'"
      ]
     },
     "execution_count": 1,
     "metadata": {},
     "output_type": "execute_result"
    }
   ],
   "source": [
    "from tsplib95 import tsplib95\n",
    "import itertools\n",
    "import networkx as nx\n",
    "\n",
    "instance = tsplib95.load_problem('./tsplib/ulysses16.tsp')\n",
    "\n",
    "instance.comment"
   ]
  },
  {
   "cell_type": "markdown",
   "metadata": {},
   "source": [
    "Remember, this repository contains a small selection of TSP instances that you can use to test your algorithms.\n",
    "\n",
    "| name | nodes | description |\n",
    "|------|-------|-------------|\n",
    "| ulysses16.tsp | 16 | Odyssey of Ulysses |\n",
    "| ulysses7.tsp | 7 | subset of ulysses16 for testing purposes |\n",
    "| bayg29.tsp | 29 | 29 Cities in Bavaria |\n",
    "| bier127.tsp | 127 | 127 Biergaerten in Augsburg |\n",
    "| bier20.tsp | 20 | subset of bier127 |\n",
    "| brazil58.tsp | 58 | 58 cities in Brazil |\n",
    "| ali535.tsp | 535 | 535 Airports around the globe |\n",
    "| d18512.tsp | 18512 | 18512 places in Germany |"
   ]
  },
  {
   "cell_type": "markdown",
   "metadata": {},
   "source": [
    "The following calls show the dimension = number of nodes of the problem, its node set and the edge weights. The functions `instance.get_nodes()` and `instance.get_edges()` are implemented as iterators, so you can loop over the nodes or edges. To get a list of nodes or edges, you have to explicitly construct one using `list(instance.get_nodes())`. Note that node counting may start at 1 for some instances while others use 0 as starting point. For convenience, we store the index of the first node as `first_node`.\n"
   ]
  },
  {
   "cell_type": "code",
   "execution_count": 2,
   "metadata": {},
   "outputs": [
    {
     "name": "stdout",
     "output_type": "stream",
     "text": [
      "List of nodes:  [1, 2, 3, 4, 5, 6, 7, 8, 9, 10, 11, 12, 13, 14, 15, 16]\n",
      "edge {  1, 2 } has weight   6.\n",
      "edge {  1, 3 } has weight   5.\n",
      "edge {  1, 4 } has weight   3.\n",
      "edge {  1, 5 } has weight  11.\n",
      "edge {  1, 6 } has weight   8.\n",
      "edge {  1, 7 } has weight   7.\n",
      "edge {  1, 8 } has weight   1.\n",
      "edge {  1, 9 } has weight  12.\n",
      "edge {  1,10 } has weight   8.\n",
      "edge {  1,11 } has weight  26.\n",
      "edge {  1,12 } has weight   5.\n",
      "edge {  1,13 } has weight   5.\n",
      "edge {  1,14 } has weight   5.\n",
      "edge {  1,15 } has weight   7.\n",
      "edge {  1,16 } has weight   1.\n",
      "edge {  2, 3 } has weight   1.\n",
      "edge {  2, 4 } has weight   4.\n",
      "edge {  2, 5 } has weight  17.\n",
      "edge {  2, 6 } has weight  14.\n",
      "edge {  2, 7 } has weight  13.\n",
      "edge {  2, 8 } has weight   6.\n",
      "edge {  2, 9 } has weight  17.\n",
      "edge {  2,10 } has weight  13.\n",
      "edge {  2,11 } has weight  32.\n",
      "edge {  2,12 } has weight  11.\n",
      "edge {  2,13 } has weight  11.\n",
      "edge {  2,14 } has weight  11.\n",
      "edge {  2,15 } has weight  13.\n",
      "edge {  2,16 } has weight   7.\n",
      "edge {  3, 4 } has weight   5.\n",
      "edge {  3, 5 } has weight  16.\n",
      "edge {  3, 6 } has weight  13.\n",
      "edge {  3, 7 } has weight  12.\n",
      "edge {  3, 8 } has weight   6.\n",
      "edge {  3, 9 } has weight  16.\n",
      "edge {  3,10 } has weight  12.\n",
      "edge {  3,11 } has weight  31.\n",
      "edge {  3,12 } has weight  10.\n",
      "edge {  3,13 } has weight  10.\n",
      "edge {  3,14 } has weight  11.\n",
      "edge {  3,15 } has weight  12.\n",
      "edge {  3,16 } has weight   6.\n",
      "edge {  4, 5 } has weight  13.\n",
      "edge {  4, 6 } has weight  11.\n",
      "edge {  4, 7 } has weight  10.\n",
      "edge {  4, 8 } has weight   3.\n",
      "edge {  4, 9 } has weight  15.\n",
      "edge {  4,10 } has weight  11.\n",
      "edge {  4,11 } has weight  28.\n",
      "edge {  4,12 } has weight   8.\n",
      "edge {  4,13 } has weight   8.\n",
      "edge {  4,14 } has weight   8.\n",
      "edge {  4,15 } has weight   9.\n",
      "edge {  4,16 } has weight   5.\n",
      "edge {  5, 6 } has weight   4.\n",
      "edge {  5, 7 } has weight   6.\n",
      "edge {  5, 8 } has weight  11.\n",
      "edge {  5, 9 } has weight   8.\n",
      "edge {  5,10 } has weight   8.\n",
      "edge {  5,11 } has weight  16.\n",
      "edge {  5,12 } has weight   7.\n",
      "edge {  5,13 } has weight   7.\n",
      "edge {  5,14 } has weight   6.\n",
      "edge {  5,15 } has weight   4.\n",
      "edge {  5,16 } has weight  11.\n",
      "edge {  6, 7 } has weight   1.\n",
      "edge {  6, 8 } has weight   8.\n",
      "edge {  6, 9 } has weight   5.\n",
      "edge {  6,10 } has weight   4.\n",
      "edge {  6,11 } has weight  17.\n",
      "edge {  6,12 } has weight   3.\n",
      "edge {  6,13 } has weight   3.\n",
      "edge {  6,14 } has weight   3.\n",
      "edge {  6,15 } has weight   3.\n",
      "edge {  6,16 } has weight   8.\n",
      "edge {  7, 8 } has weight   7.\n",
      "edge {  7, 9 } has weight   5.\n",
      "edge {  7,10 } has weight   3.\n",
      "edge {  7,11 } has weight  18.\n",
      "edge {  7,12 } has weight   2.\n",
      "edge {  7,13 } has weight   2.\n",
      "edge {  7,14 } has weight   2.\n",
      "edge {  7,15 } has weight   3.\n",
      "edge {  7,16 } has weight   7.\n",
      "edge {  8, 9 } has weight  12.\n",
      "edge {  8,10 } has weight   8.\n",
      "edge {  8,11 } has weight  26.\n",
      "edge {  8,12 } has weight   5.\n",
      "edge {  8,13 } has weight   5.\n",
      "edge {  8,14 } has weight   5.\n",
      "edge {  8,15 } has weight   6.\n",
      "edge {  8,16 } has weight   2.\n",
      "edge {  9,10 } has weight   4.\n",
      "edge {  9,11 } has weight  15.\n",
      "edge {  9,12 } has weight   7.\n",
      "edge {  9,13 } has weight   7.\n",
      "edge {  9,14 } has weight   7.\n",
      "edge {  9,15 } has weight   8.\n",
      "edge {  9,16 } has weight  11.\n",
      "edge { 10,11 } has weight  19.\n",
      "edge { 10,12 } has weight   3.\n",
      "edge { 10,13 } has weight   4.\n",
      "edge { 10,14 } has weight   4.\n",
      "edge { 10,15 } has weight   6.\n",
      "edge { 10,16 } has weight   7.\n",
      "edge { 11,12 } has weight  20.\n",
      "edge { 11,13 } has weight  21.\n",
      "edge { 11,14 } has weight  20.\n",
      "edge { 11,15 } has weight  20.\n",
      "edge { 11,16 } has weight  25.\n",
      "edge { 12,13 } has weight   0.\n",
      "edge { 12,14 } has weight   1.\n",
      "edge { 12,15 } has weight   3.\n",
      "edge { 12,16 } has weight   5.\n",
      "edge { 13,14 } has weight   1.\n",
      "edge { 13,15 } has weight   3.\n",
      "edge { 13,16 } has weight   4.\n",
      "edge { 14,15 } has weight   2.\n",
      "edge { 14,16 } has weight   5.\n",
      "edge { 15,16 } has weight   7.\n"
     ]
    }
   ],
   "source": [
    "instance.dimension\n",
    "\n",
    "instance.get_nodes()\n",
    "print(\"List of nodes: \", list(instance.get_nodes()))\n",
    "\n",
    "first_node = min(instance.get_nodes())\n",
    "first_node\n",
    "\n",
    "for i,j in instance.get_edges():\n",
    "    if i >= j:\n",
    "        continue\n",
    "    print(f\"edge {{ {i:2},{j:2} }} has weight {instance.wfunc(i,j):3}.\")\n"
   ]
  },
  {
   "cell_type": "markdown",
   "metadata": {},
   "source": [
    "You have already seen how to draw a graph, here is the relevant code again."
   ]
  },
  {
   "cell_type": "code",
   "execution_count": 3,
   "metadata": {},
   "outputs": [
    {
     "name": "stderr",
     "output_type": "stream",
     "text": [
      "/Users/ritter/Library/Caches/pypoetry/virtualenvs/assignments-ma4502-S2019-py3.7/lib/python3.7/site-packages/networkx/drawing/nx_pylab.py:579: MatplotlibDeprecationWarning: \n",
      "The iterable function was deprecated in Matplotlib 3.1 and will be removed in 3.3. Use np.iterable instead.\n",
      "  if not cb.iterable(width):\n"
     ]
    },
    {
     "data": {
      "text/plain": [
       "<matplotlib.collections.LineCollection at 0x1204a71d0>"
      ]
     },
     "execution_count": 3,
     "metadata": {},
     "output_type": "execute_result"
    }
   ],
   "source": [
    "G = instance.get_graph()\n",
    "if instance.is_depictable():\n",
    "    pos = {i: instance.get_display(i) for i in instance.get_nodes()}\n",
    "else:\n",
    "    pos = nx.drawing.layout.spring_layout(G)\n",
    "nx.draw_networkx_nodes(G, pos, node_color='#66a3ff', node_size=200)\n",
    "nx.draw_networkx_labels(G, pos, font_weight='bold' )\n",
    "nx.draw_networkx_edges(G, pos,  edge_color='#e6e6e6')"
   ]
  },
  {
   "cell_type": "markdown",
   "metadata": {},
   "source": [
    "# Implementing a multi commodity flow model in Gurobi\n",
    "We will implement a multi commodity flow model using binary variables $x_{ij} \\in \\{0,1\\}$ to indicate whether edge $\\{i,j\\}$ is being used in the tour. For the flow we use variables $y_{i,j,k}$ indicating the flow of commodity $k$ from node $v_0$ into node $k$ along arc $(i,j)$. Flow is only allowed on arcs that are used in the tour and the capacity of each such arc is $1$, we send $2$ units of flow from $v_0$ to $k$. For the formulation, we employ the condition that $i < j$ for any edge $\\{i,j\\}$ for the $x$-variables. The formulation looks like this:\n",
    "\n",
    "\\begin{align}\n",
    "\\min\\;&\\sum_{i,j \\in E} c_{i,j} \\cdot x_{i,j}\\\\\n",
    "&\\sum_{j \\ne i} x_{i,j} = 2 \\quad \\text{for all nodes $i$}\\\\\n",
    "&\\sum_{j \\ne k} y_{v_0,j,k} = 2 \\quad \\text{for all nodes $k \\ne v_0$}\\\\\n",
    "&\\sum_{j \\ne k} y_{j,v_0,k} = 0 \\quad \\text{for all nodes $k \\ne v_0$}\\\\\n",
    "&\\sum_{j \\ne i} y_{j,i,k} - \\sum_{j \\ne i} y_{i,j,k} = 0 \\quad \\text{for all nodes $k \\ne v_0$ and all nodes $i \\notin \\{v_0,k\\}$}\\\\\n",
    "&y_{i,j,k} \\le x_{i,j} \\quad \\text{for all arcs $(i,j)$ and all $k \\ne v_0$}\\\\\n",
    "&y_{j,i,k} \\le x_{i,j} \\quad \\text{for all arcs $(i,j)$ and all $k \\ne v_0$}\\\\\n",
    "&x_{i,j} \\in \\{0,1\\}\\\\\n",
    "&y_{i,j,k} \\ge 0 \\quad \\text{for all $k \\ne 1$}\n",
    "\\end{align}\n",
    "\n",
    "## Creating the variables\n",
    "We start by creating the model and the variables and setting the objective.\n"
   ]
  },
  {
   "cell_type": "code",
   "execution_count": 4,
   "metadata": {},
   "outputs": [
    {
     "name": "stdout",
     "output_type": "stream",
     "text": [
      "Academic license - for non-commercial use only\n"
     ]
    }
   ],
   "source": [
    "import gurobipy as grb\n",
    "\n",
    "model = grb.Model(name=\"Multi Commodity Flow TSP Formulation\")\n",
    "model.reset()\n",
    "\n",
    "x = model.addVars(filter(lambda e: e[0] < e[1], instance.get_edges()), vtype=grb.GRB.BINARY, name=\"x\")\n",
    "\n",
    "y = model.addVars(filter(lambda e: e[0] != e[1], instance.get_edges()), range(first_node+1, instance.dimension+1), name=\"y\")\n",
    "\n",
    "model.setObjective(sum(x[i,j]*instance.wfunc(i,j) for i,j in x.keys()))\n"
   ]
  },
  {
   "cell_type": "markdown",
   "metadata": {},
   "source": [
    "## Degree Constraints\n",
    "We first add the degree constraints for the $x$-variables:\n",
    "\\begin{align}\n",
    "&\\sum_{j \\ne i} x_{i,j} = 2 \\quad \\text{for all nodes $i$}\n",
    "\\end{align}"
   ]
  },
  {
   "cell_type": "code",
   "execution_count": 5,
   "metadata": {},
   "outputs": [],
   "source": [
    "for i in instance.get_nodes():\n",
    "    model.addConstr(x.sum(i,'*') + x.sum('*',i) == 2, name=f\"degree[{i}]\")"
   ]
  },
  {
   "cell_type": "markdown",
   "metadata": {},
   "source": [
    "## Flow Constraints\n",
    "**Task 1:** Add the flow conservations constraints as well as the in- and out-flow constraints for $v_0$ for each commodity k:"
   ]
  },
  {
   "cell_type": "code",
   "execution_count": 6,
   "metadata": {},
   "outputs": [],
   "source": [
    "for k in itertools.islice(instance.get_nodes(), 1, None):\n",
    "    model.addConstr(y.sum(first_node,'*',k) == 2, name=f\"v0_outflow_for_commodity_{k}\")\n",
    "    model.addConstr(y.sum('*',first_node,k) == 0, name=f\"v0_inflow_for_commodity_{k}\")\n",
    "    for i in filter(lambda e: e not in {first_node,k}, instance.get_nodes()):\n",
    "        model.addConstr(y.sum('*',i,k) - y.sum(i,'*',k) == 0, name=f\"{k}_flow_conservation_at_node_{i}\")"
   ]
  },
  {
   "cell_type": "markdown",
   "metadata": {},
   "source": [
    "## Capacity Constraints\n",
    "**Task 2:** Add the capacity constraints:\n",
    "\\begin{align}\n",
    "&y_{i,j,k} \\le x_{i,j} \\quad \\text{for all arcs $(i,j)$ and all $k \\ne v_0$}\\\\\n",
    "&y_{j,i,k} \\le x_{i,j} \\quad \\text{for all arcs $(i,j)$ and all $k \\ne v_0$}\n",
    "\\end{align}"
   ]
  },
  {
   "cell_type": "code",
   "execution_count": 7,
   "metadata": {},
   "outputs": [],
   "source": [
    "for k in itertools.islice(instance.get_nodes(), 1, None):\n",
    "    model.addConstrs( (y[i,j,k] <= x[i,j] for i,j in x.keys()), name=f\"flow_bound_for_commodity_{k}_on_\")\n",
    "    model.addConstrs( (y[j,i,k] <= x[i,j] for i,j in x.keys()), name=f\"reverse_flow_bound_for_commodity_{k}_on_\")"
   ]
  },
  {
   "cell_type": "markdown",
   "metadata": {},
   "source": [
    "## Starting the Optimization Process\n",
    "Finally, we set the objective to minimization and call the optimizer."
   ]
  },
  {
   "cell_type": "code",
   "execution_count": 8,
   "metadata": {},
   "outputs": [
    {
     "name": "stdout",
     "output_type": "stream",
     "text": [
      "Optimize a model with 3856 rows, 3720 columns and 14190 nonzeros\n",
      "Variable types: 3600 continuous, 120 integer (120 binary)\n",
      "Coefficient statistics:\n",
      "  Matrix range     [1e+00, 1e+00]\n",
      "  Objective range  [1e+00, 3e+01]\n",
      "  Bounds range     [1e+00, 1e+00]\n",
      "  RHS range        [2e+00, 2e+00]\n",
      "Presolve removed 240 rows and 225 columns\n",
      "Presolve time: 0.02s\n",
      "Presolved: 3616 rows, 3495 columns, 13305 nonzeros\n",
      "Variable types: 3375 continuous, 120 integer (120 binary)\n",
      "Found heuristic solution: objective 124.0000000\n",
      "\n",
      "Root relaxation: objective 7.050000e+01, 2402 iterations, 0.07 seconds\n",
      "\n",
      "    Nodes    |    Current Node    |     Objective Bounds      |     Work\n",
      " Expl Unexpl |  Obj  Depth IntInf | Incumbent    BestBd   Gap | It/Node Time\n",
      "\n",
      "     0     0   70.50000    0   10  124.00000   70.50000  43.1%     -    0s\n",
      "H    0     0                      71.0000000   70.50000  0.70%     -    0s\n",
      "\n",
      "Explored 1 nodes (2512 simplex iterations) in 0.17 seconds\n",
      "Thread count was 8 (of 8 available processors)\n",
      "\n",
      "Solution count 2: 71 124 \n",
      "\n",
      "Optimal solution found (tolerance 1.00e-04)\n",
      "Best objective 7.100000000000e+01, best bound 7.100000000000e+01, gap 0.0000%\n"
     ]
    }
   ],
   "source": [
    "model.ModelSense = grb.GRB.MINIMIZE\n",
    "model.reset()\n",
    "model.optimize()"
   ]
  },
  {
   "cell_type": "markdown",
   "metadata": {},
   "source": [
    "## Querying and Visualizing the Solution\n",
    "Before we visualize our result, let us look at a few key figures of our solution."
   ]
  },
  {
   "cell_type": "code",
   "execution_count": 9,
   "metadata": {},
   "outputs": [
    {
     "data": {
      "text/plain": [
       "['(1,3,2): 1.0',\n",
       " '(1,3,3): 1.0',\n",
       " '(1,3,4): 1.0',\n",
       " '(1,3,5): 1.0',\n",
       " '(1,3,6): 1.0',\n",
       " '(1,3,7): 1.0',\n",
       " '(1,3,8): 1.0',\n",
       " '(1,3,9): 1.0',\n",
       " '(1,3,10): 1.0',\n",
       " '(1,3,11): 1.0',\n",
       " '(1,3,12): 1.0',\n",
       " '(1,3,13): 1.0',\n",
       " '(1,3,14): 1.0',\n",
       " '(1,3,15): 1.0',\n",
       " '(1,3,16): 1.0',\n",
       " '(1,16,2): 1.0',\n",
       " '(1,16,3): 1.0',\n",
       " '(1,16,4): 1.0',\n",
       " '(1,16,5): 1.0',\n",
       " '(1,16,6): 1.0',\n",
       " '(1,16,7): 1.0',\n",
       " '(1,16,8): 1.0',\n",
       " '(1,16,9): 1.0',\n",
       " '(1,16,10): 1.0',\n",
       " '(1,16,11): 1.0',\n",
       " '(1,16,12): 1.0',\n",
       " '(1,16,13): 1.0',\n",
       " '(1,16,14): 1.0',\n",
       " '(1,16,15): 1.0',\n",
       " '(1,16,16): 1.0',\n",
       " '(2,3,3): 1.0',\n",
       " '(2,4,4): 1.0',\n",
       " '(2,4,5): 1.0',\n",
       " '(2,4,6): 1.0',\n",
       " '(2,4,7): 1.0',\n",
       " '(2,4,8): 1.0',\n",
       " '(2,4,9): 1.0',\n",
       " '(2,4,10): 1.0',\n",
       " '(2,4,11): 1.0',\n",
       " '(2,4,12): 1.0',\n",
       " '(2,4,13): 1.0',\n",
       " '(2,4,14): 1.0',\n",
       " '(2,4,15): 1.0',\n",
       " '(2,4,16): 1.0',\n",
       " '(3,2,2): 1.0',\n",
       " '(3,2,4): 1.0',\n",
       " '(3,2,5): 1.0',\n",
       " '(3,2,6): 1.0',\n",
       " '(3,2,7): 1.0',\n",
       " '(3,2,8): 1.0',\n",
       " '(3,2,9): 1.0',\n",
       " '(3,2,10): 1.0',\n",
       " '(3,2,11): 1.0',\n",
       " '(3,2,12): 1.0',\n",
       " '(3,2,13): 1.0',\n",
       " '(3,2,14): 1.0',\n",
       " '(3,2,15): 1.0',\n",
       " '(3,2,16): 1.0',\n",
       " '(4,2,2): 1.0',\n",
       " '(4,2,3): 1.0',\n",
       " '(4,8,5): 1.0',\n",
       " '(4,8,6): 1.0',\n",
       " '(4,8,7): 1.0',\n",
       " '(4,8,8): 1.0',\n",
       " '(4,8,9): 1.0',\n",
       " '(4,8,10): 1.0',\n",
       " '(4,8,11): 1.0',\n",
       " '(4,8,12): 1.0',\n",
       " '(4,8,13): 1.0',\n",
       " '(4,8,14): 1.0',\n",
       " '(4,8,15): 1.0',\n",
       " '(4,8,16): 1.0',\n",
       " '(5,6,2): 1.0',\n",
       " '(5,6,3): 1.0',\n",
       " '(5,6,4): 1.0',\n",
       " '(5,6,6): 1.0',\n",
       " '(5,6,7): 1.0',\n",
       " '(5,6,8): 1.0',\n",
       " '(5,6,14): 1.0',\n",
       " '(5,6,15): 1.0',\n",
       " '(5,11,9): 1.0',\n",
       " '(5,11,10): 1.0',\n",
       " '(5,11,11): 1.0',\n",
       " '(5,11,12): 1.0',\n",
       " '(5,11,13): 1.0',\n",
       " '(5,11,16): 1.0',\n",
       " '(6,5,5): 1.0',\n",
       " '(6,5,9): 1.0',\n",
       " '(6,5,10): 1.0',\n",
       " '(6,5,11): 1.0',\n",
       " '(6,5,12): 1.0',\n",
       " '(6,5,13): 1.0',\n",
       " '(6,5,16): 1.0',\n",
       " '(6,7,2): 1.0',\n",
       " '(6,7,3): 1.0',\n",
       " '(6,7,4): 1.0',\n",
       " '(6,7,7): 1.0',\n",
       " '(6,7,8): 1.0',\n",
       " '(6,7,14): 1.0',\n",
       " '(6,7,15): 1.0',\n",
       " '(7,6,5): 1.0',\n",
       " '(7,6,6): 1.0',\n",
       " '(7,6,9): 1.0',\n",
       " '(7,6,10): 1.0',\n",
       " '(7,6,11): 1.0',\n",
       " '(7,6,12): 1.0',\n",
       " '(7,6,13): 1.0',\n",
       " '(7,6,16): 1.0',\n",
       " '(7,14,2): 1.0',\n",
       " '(7,14,3): 1.0',\n",
       " '(7,14,4): 1.0',\n",
       " '(7,14,8): 1.0',\n",
       " '(7,14,14): 1.0',\n",
       " '(7,14,15): 1.0',\n",
       " '(8,4,2): 1.0',\n",
       " '(8,4,3): 1.0',\n",
       " '(8,4,4): 1.0',\n",
       " '(8,15,5): 1.0',\n",
       " '(8,15,6): 1.0',\n",
       " '(8,15,7): 1.0',\n",
       " '(8,15,9): 1.0',\n",
       " '(8,15,10): 1.0',\n",
       " '(8,15,11): 1.0',\n",
       " '(8,15,12): 1.0',\n",
       " '(8,15,13): 1.0',\n",
       " '(8,15,14): 1.0',\n",
       " '(8,15,15): 1.0',\n",
       " '(8,15,16): 1.0',\n",
       " '(9,10,10): 1.0',\n",
       " '(9,10,12): 1.0',\n",
       " '(9,10,13): 1.0',\n",
       " '(9,10,16): 1.0',\n",
       " '(9,11,2): 1.0',\n",
       " '(9,11,3): 1.0',\n",
       " '(9,11,4): 1.0',\n",
       " '(9,11,5): 1.0',\n",
       " '(9,11,6): 1.0',\n",
       " '(9,11,7): 1.0',\n",
       " '(9,11,8): 1.0',\n",
       " '(9,11,11): 1.0',\n",
       " '(9,11,14): 1.0',\n",
       " '(9,11,15): 1.0',\n",
       " '(10,9,2): 1.0',\n",
       " '(10,9,3): 1.0',\n",
       " '(10,9,4): 1.0',\n",
       " '(10,9,5): 1.0',\n",
       " '(10,9,6): 1.0',\n",
       " '(10,9,7): 1.0',\n",
       " '(10,9,8): 1.0',\n",
       " '(10,9,9): 1.0',\n",
       " '(10,9,11): 1.0',\n",
       " '(10,9,14): 1.0',\n",
       " '(10,9,15): 1.0',\n",
       " '(10,12,12): 1.0',\n",
       " '(10,12,13): 1.0',\n",
       " '(10,12,16): 1.0',\n",
       " '(11,5,2): 1.0',\n",
       " '(11,5,3): 1.0',\n",
       " '(11,5,4): 1.0',\n",
       " '(11,5,5): 1.0',\n",
       " '(11,5,6): 1.0',\n",
       " '(11,5,7): 1.0',\n",
       " '(11,5,8): 1.0',\n",
       " '(11,5,14): 1.0',\n",
       " '(11,5,15): 1.0',\n",
       " '(11,9,9): 1.0',\n",
       " '(11,9,10): 1.0',\n",
       " '(11,9,12): 1.0',\n",
       " '(11,9,13): 1.0',\n",
       " '(11,9,16): 1.0',\n",
       " '(12,10,2): 1.0',\n",
       " '(12,10,3): 1.0',\n",
       " '(12,10,4): 1.0',\n",
       " '(12,10,5): 1.0',\n",
       " '(12,10,6): 1.0',\n",
       " '(12,10,7): 1.0',\n",
       " '(12,10,8): 1.0',\n",
       " '(12,10,9): 1.0',\n",
       " '(12,10,10): 1.0',\n",
       " '(12,10,11): 1.0',\n",
       " '(12,10,14): 1.0',\n",
       " '(12,10,15): 1.0',\n",
       " '(12,13,13): 1.0',\n",
       " '(12,13,16): 1.0',\n",
       " '(13,12,2): 1.0',\n",
       " '(13,12,3): 1.0',\n",
       " '(13,12,4): 1.0',\n",
       " '(13,12,5): 1.0',\n",
       " '(13,12,6): 1.0',\n",
       " '(13,12,7): 1.0',\n",
       " '(13,12,8): 1.0',\n",
       " '(13,12,9): 1.0',\n",
       " '(13,12,10): 1.0',\n",
       " '(13,12,11): 1.0',\n",
       " '(13,12,12): 1.0',\n",
       " '(13,12,14): 1.0',\n",
       " '(13,12,15): 1.0',\n",
       " '(13,16,16): 1.0',\n",
       " '(14,7,5): 1.0',\n",
       " '(14,7,6): 1.0',\n",
       " '(14,7,7): 1.0',\n",
       " '(14,7,9): 1.0',\n",
       " '(14,7,10): 1.0',\n",
       " '(14,7,11): 1.0',\n",
       " '(14,7,12): 1.0',\n",
       " '(14,7,13): 1.0',\n",
       " '(14,7,16): 1.0',\n",
       " '(14,15,2): 1.0',\n",
       " '(14,15,3): 1.0',\n",
       " '(14,15,4): 1.0',\n",
       " '(14,15,8): 1.0',\n",
       " '(14,15,15): 1.0',\n",
       " '(15,8,2): 1.0',\n",
       " '(15,8,3): 1.0',\n",
       " '(15,8,4): 1.0',\n",
       " '(15,8,8): 1.0',\n",
       " '(15,14,5): 1.0',\n",
       " '(15,14,6): 1.0',\n",
       " '(15,14,7): 1.0',\n",
       " '(15,14,9): 1.0',\n",
       " '(15,14,10): 1.0',\n",
       " '(15,14,11): 1.0',\n",
       " '(15,14,12): 1.0',\n",
       " '(15,14,13): 1.0',\n",
       " '(15,14,14): 1.0',\n",
       " '(15,14,16): 1.0',\n",
       " '(16,13,2): 1.0',\n",
       " '(16,13,3): 1.0',\n",
       " '(16,13,4): 1.0',\n",
       " '(16,13,5): 1.0',\n",
       " '(16,13,6): 1.0',\n",
       " '(16,13,7): 1.0',\n",
       " '(16,13,8): 1.0',\n",
       " '(16,13,9): 1.0',\n",
       " '(16,13,10): 1.0',\n",
       " '(16,13,11): 1.0',\n",
       " '(16,13,12): 1.0',\n",
       " '(16,13,13): 1.0',\n",
       " '(16,13,14): 1.0',\n",
       " '(16,13,15): 1.0']"
      ]
     },
     "execution_count": 9,
     "metadata": {},
     "output_type": "execute_result"
    }
   ],
   "source": [
    "model.ObjVal\n",
    "\n",
    "solution_edges = [(i,j) for i,j in x.keys() if x[i,j].x > 0.9]\n",
    "solution_edges\n",
    "\n",
    "flow_edges = [f\"({i},{j},{k}): {y[i,j,k].x}\" for i,j,k in y.keys() if y[i,j,k].x > 0]\n",
    "flow_edges"
   ]
  },
  {
   "cell_type": "markdown",
   "metadata": {},
   "source": [
    "For debugging purposes, it might be helpful to export the model held by Gurobi into a human-readable format:"
   ]
  },
  {
   "cell_type": "code",
   "execution_count": 10,
   "metadata": {},
   "outputs": [],
   "source": [
    "model.write('test.lp')"
   ]
  },
  {
   "cell_type": "markdown",
   "metadata": {},
   "source": [
    "Finally, let us visualize the solution using NetworkX. In this case, we need to prescribe positions and draw the nodes and two layers of edges separately."
   ]
  },
  {
   "cell_type": "code",
   "execution_count": 12,
   "metadata": {},
   "outputs": [
    {
     "data": {
      "text/plain": [
       "<matplotlib.collections.LineCollection at 0x111c97b00>"
      ]
     },
     "execution_count": 12,
     "metadata": {},
     "output_type": "execute_result"
    },
    {
     "data": {
      "image/png": "[encoded data removed]",
      "text/plain": [
       "<Figure size 432x288 with 1 Axes>"
      ]
     },
     "metadata": {},
     "output_type": "display_data"
    }
   ],
   "source": [
    "if instance.is_depictable():\n",
    "    pos = {i: instance.get_display(i) for i in instance.get_nodes()}\n",
    "else:\n",
    "    pos = nx.drawing.layout.spring_layout(G)\n",
    "nx.draw_networkx_nodes(G, pos, node_color='#66a3ff', node_size=500)\n",
    "nx.draw_networkx_labels(G, pos, font_weight='bold' )\n",
    "nx.draw_networkx_edges(G, pos,  edge_color='#e6e6e6')\n",
    "nx.draw_networkx_edges(G, pos,  edgelist=solution_edges, edge_color='#ffa31a', width=4)"
   ]
  },
  {
   "cell_type": "markdown",
   "metadata": {},
   "source": [
    "**Task 3:** Test the model for different instances. How does it compare to the MTZ formulation?"
   ]
  },
  {
   "cell_type": "code",
   "execution_count": null,
   "metadata": {},
   "outputs": [],
   "source": []
  }
 ],
 "metadata": {
  "kernelspec": {
   "display_name": "Python 3",
   "language": "python",
   "name": "python3"
  },
  "language_info": {
   "codemirror_mode": {
    "name": "ipython",
    "version": 3
   },
   "file_extension": ".py",
   "mimetype": "text/x-python",
   "name": "python",
   "nbconvert_exporter": "python",
   "pygments_lexer": "ipython3",
   "version": "3.7.1"
  }
 },
 "nbformat": 4,
 "nbformat_minor": 2
}
