{
 "cells": [
  {
   "cell_type": "markdown",
   "metadata": {},
   "source": [
    "# Knapsack: Greedy and 2-Approximation"
   ]
  },
  {
   "cell_type": "markdown",
   "metadata": {},
   "source": [
    "In the following, we will use the knapsack instance from the lecture as an easy example with a weight capacity of $W=10$. We will index the items from $1$ to $7$.\n",
    "\n",
    "| item   |   1 |  2 |   3 |   4 |  5 |   6 |  7  |\n",
    "|--------|-----|----|-----|-----|-----|----|-----|\n",
    "| weight |   4 |  1 |   2 |   3 |   2 |  1 |   2 |\n",
    "| value  | 299 | 73 | 159 | 221 | 137 | 89 | 157 |"
   ]
  },
  {
   "cell_type": "code",
   "execution_count": 1,
   "metadata": {},
   "outputs": [],
   "source": [
    "class Item:\n",
    "    def __init__(self, number, weight=0, value=0):\n",
    "        self.number = number\n",
    "        self.value = value\n",
    "        self.weight = weight\n",
    "        \n",
    "items = [Item(1,4,299), Item(2,1,73), Item(3,2,159), Item(4,3,221), Item(5,2,137), Item(6,1,89), Item(7,2,157)]\n",
    "capacity = 10"
   ]
  },
  {
   "cell_type": "markdown",
   "metadata": {},
   "source": [
    "We will start by implementing the simple greedy approach by sorting for the values only. Try to fill in the blanks in the following code to get a working implementation of that algorithm. We use `sorted` to sort our list of items. The `key` argument is a function that returns some comparable value that is used as the basis for sorting the list. Here, we use a so-called _lambda function_ to declare a small inline function that take one argument `x` and returns `x.value`. If we feed an `Item` object to that function, it will returns its value, so we effectively sort the list by values. As the normal sorting order is ascending, we also need to supply the `reverse=True` parameter. "
   ]
  },
  {
   "cell_type": "code",
   "execution_count": 2,
   "metadata": {},
   "outputs": [],
   "source": [
    "sorted_items = sorted(items, key = lambda x: x.value, reverse=True)"
   ]
  },
  {
   "cell_type": "code",
   "execution_count": 3,
   "metadata": {},
   "outputs": [
    {
     "name": "stdout",
     "output_type": "stream",
     "text": [
      "item 1 has value 299 and weight 4\n",
      "item 4 has value 221 and weight 3\n",
      "item 3 has value 159 and weight 2\n",
      "item 7 has value 157 and weight 2\n",
      "item 5 has value 137 and weight 2\n",
      "item 6 has value 89 and weight 1\n",
      "item 2 has value 73 and weight 1\n"
     ]
    }
   ],
   "source": [
    "for item in sorted_items:\n",
    "    print(f\"item {item.number} has value {item.value} and weight {item.weight}\")"
   ]
  },
  {
   "cell_type": "code",
   "execution_count": 4,
   "metadata": {},
   "outputs": [
    {
     "name": "stdout",
     "output_type": "stream",
     "text": [
      "Computed solution has a total weight of 9, a total value of 679 and contains the items {1, 3, 4}.\n"
     ]
    }
   ],
   "source": [
    "selected_items = set()\n",
    "total_value = 0\n",
    "total_weight = 0\n",
    "i = 0\n",
    "while total_weight + sorted_items[i].weight <= capacity:\n",
    "    selected_items.add(sorted_items[i].number)\n",
    "    total_weight += sorted_items[i].weight\n",
    "    total_value += sorted_items[i].value\n",
    "    i += 1\n",
    "\n",
    "print(f\"Computed solution has a total weight of {total_weight}, a total value of {total_value} and contains the items {selected_items}.\")"
   ]
  },
  {
   "cell_type": "markdown",
   "metadata": {},
   "source": [
    "## Problem 1\n",
    "Try to modify the algorithm above so that it yields the 2-approximation algorithm discussed in the lecture."
   ]
  },
  {
   "cell_type": "markdown",
   "metadata": {},
   "source": [
    "We start by modifying the sorting: Instead of by value, we now sort by the ration of value to weight. Note that in the output we use the _type specifier_ `:.2f` to print the ratio as a floating point number with 2 decimals."
   ]
  },
  {
   "cell_type": "code",
   "execution_count": 8,
   "metadata": {},
   "outputs": [],
   "source": [
    "sorted_items = sorted(items, key = lambda x: x.value/x.weight, reverse=True)"
   ]
  },
  {
   "cell_type": "code",
   "execution_count": 9,
   "metadata": {},
   "outputs": [
    {
     "name": "stdout",
     "output_type": "stream",
     "text": [
      "item 6 has value 89 and weight 1, the relative value is 89.00\n",
      "item 3 has value 159 and weight 2, the relative value is 79.50\n",
      "item 7 has value 157 and weight 2, the relative value is 78.50\n",
      "item 1 has value 299 and weight 4, the relative value is 74.75\n",
      "item 4 has value 221 and weight 3, the relative value is 73.67\n",
      "item 2 has value 73 and weight 1, the relative value is 73.00\n",
      "item 5 has value 137 and weight 2, the relative value is 68.50\n"
     ]
    }
   ],
   "source": [
    "for item in sorted_items:\n",
    "    print(f\"item {item.number} has value {item.value} and weight {item.weight}, the relative value is {item.value/item.weight:.2f}\")"
   ]
  },
  {
   "cell_type": "markdown",
   "metadata": {},
   "source": [
    "The modified algorithm is then straightforward: We use the original and just add an `if` clause at the end to test whether our solution is better than just taking the next item."
   ]
  },
  {
   "cell_type": "code",
   "execution_count": 11,
   "metadata": {},
   "outputs": [
    {
     "name": "stdout",
     "output_type": "stream",
     "text": [
      "Computed solution has a total weight of 9, a total value of 704 and contains the items {1, 3, 6, 7}.\n"
     ]
    }
   ],
   "source": [
    "selected_items = set()\n",
    "total_value = 0\n",
    "total_weight = 0\n",
    "i = 0\n",
    "while total_weight + sorted_items[i].weight <= capacity:\n",
    "    selected_items.add(sorted_items[i].number)\n",
    "    total_weight += sorted_items[i].weight\n",
    "    total_value += sorted_items[i].value\n",
    "    i += 1\n",
    "    \n",
    "if total_value < sorted_items[i].value:\n",
    "    selected_items = {i}\n",
    "    total_value = sorted_items[i].value\n",
    "    total_weight = sorted_items[i].weight\n",
    "\n",
    "print(f\"Computed solution has a total weight of {total_weight}, a total value of {total_value} and contains the items {selected_items}.\")"
   ]
  },
  {
   "cell_type": "markdown",
   "metadata": {},
   "source": [
    "## Problem 2: Dynamic Programming for Knapsack"
   ]
  },
  {
   "cell_type": "markdown",
   "metadata": {},
   "source": [
    "For an exact solution of the knapsack problem, we have discussed a dynamic programming approach. Define $C_j(\\gamma)$ as the minimum total weight of a feasible knapsack on items in $\\{0,\\ldots, j\\}$ with exactly value $\\gamma$. Then the following recursion can be used:\n",
    "\\begin{align*}\n",
    "   C_j(\\gamma) &= \\min\\left\\{C_{j-1}(\\gamma), C_{j-1}(\\gamma-v_j) + w_j\\right\\}\\\\\n",
    "   C_{j}(\\gamma) &= \\infty, \\quad \\text{if it exceeds $W$}\n",
    "\\end{align*}\n",
    "where we set initial values as\n",
    "\\begin{align*}\n",
    "    C_0(\\gamma) &=\n",
    "                  \\begin{cases}\n",
    "                    0, &\\text{for $\\gamma = 0$},\\\\\n",
    "                    \\infty, &\\text{otherwise}.\n",
    "                  \\end{cases}\n",
    "  \\end{align*}\n",
    "  \n",
    "1. Implement this dynamic programming algorithm and test it on the knapsack instance defined above.\n",
    "1. Make sure your algorithm does not just report the value of the solution, but also the corresponding knapsack."
   ]
  },
  {
   "cell_type": "markdown",
   "metadata": {},
   "source": [
    "* In the following code we use a list `C` to hold the values of $C_j(\\gamma)$, where each list entry corresponds to one value of $j$ (i.e. `C[0]` corresponds to $j=0$, etc.). Each entry of this list is a dictionary where the keys are the admissible values for $\\gamma$ and the values are the corresponding $C_j(\\gamma)$. We do not store infinity values but only store $C_j(\\gamma)$ for $\\gamma$ where the value is finite. \n",
    "* The list `S` has a structure identical to that of `C`. Again, each entry of the list corresponds to a value of $j$ and contains a dictionary where the keys are possible values of $\\gamma$. The values stored there are the knapsack solutions corresponding to the respective `C` values.\n",
    "* Note that while we do store all values of $C$ completely, that would not be necessary. In fact, it is sufficient to store the values of $C_{j-1}$ for building $C_j$, so we could throw away all previous values. For the code, that means we would only need a list with 2 entries, or just two dictionaries `C_old` and `C_new`. We chose to implement the algorithm differently because that enables us to inspect all values at the end which is helpful for debugging and for understanding the algorithm. You would probably opt for the more memory-efficient solution in production code (especially for large instances).\n",
    "* Note that an empty set in Python is initialized with `set()`, while `{}` creates an empty dictionary."
   ]
  },
  {
   "cell_type": "code",
   "execution_count": 12,
   "metadata": {},
   "outputs": [
    {
     "name": "stdout",
     "output_type": "stream",
     "text": [
      "Computed solution has a total weight of 10 and a total value of 777.\n",
      "The solution is {1, 2, 3, 6, 7}.\n"
     ]
    }
   ],
   "source": [
    "C = [] # this will hold the values of C_j; each entry is \n",
    "S = []\n",
    "C.append({0: 0})\n",
    "S.append({0: set()})\n",
    "for j in range(1,len(items)+1):\n",
    "    #copy solutions for j-1 first, all these are also feasible for j\n",
    "    new_layer = {gamma: C[j-1][gamma] for gamma in C[j-1]} # next entry of C\n",
    "    new_layer_solutions = {gamma: S[j-1][gamma] for gamma in C[j-1]} # next entry of S\n",
    "    # compute weights that may be reached with item j based on all weights for items in [j-1]\n",
    "    for gamma in C[j-1]: #iterate over keys = gamma-values\n",
    "        new_value = gamma + items[j-1].value # remember: items are index from 0, but loop starts at 1!\n",
    "        new_weight = C[j-1][gamma] + items[j-1].weight\n",
    "        new_solution = set(S[j-1][gamma])\n",
    "        new_solution.add(j)\n",
    "        if new_weight <= capacity: # new solution feasible?\n",
    "            if (new_value in new_layer): #is gamma value already present in new layer?\n",
    "                if new_layer[new_value] > new_weight: # replace if new solution is better\n",
    "                    new_layer[new_value] = new_weight\n",
    "                    new_layer_solutions[new_value] = new_solution\n",
    "            else: # create new entry for gamma value\n",
    "                new_layer[new_value] = new_weight\n",
    "                new_layer_solutions[new_value] = new_solution\n",
    "    C.append(new_layer) # store layer ...\n",
    "    S.append(new_layer_solutions) # ... and solution\n",
    "        \n",
    "max_value = max(C[len(items)]) # find best value in last layer (max over keys of the dictionary!)\n",
    "print(f\"Computed solution has a total weight of {C[len(items)][max_value]} and a total value of {max_value}.\")\n",
    "print(f\"The solution is {S[len(items)][max_value]}.\")\n",
    "        "
   ]
  },
  {
   "cell_type": "markdown",
   "metadata": {},
   "source": [
    "## Problem 3: An FPTAS for Knapsack\n",
    "Modify your solution to implement the FPTAS from the lecture."
   ]
  },
  {
   "cell_type": "markdown",
   "metadata": {},
   "source": [
    "_This problem is left as an exercise for the reader, as it is a straightforward modification of the above dynamic programming algorithm._"
   ]
  },
  {
   "cell_type": "code",
   "execution_count": null,
   "metadata": {},
   "outputs": [],
   "source": []
  }
 ],
 "metadata": {
  "kernelspec": {
   "display_name": "Python 3",
   "language": "python",
   "name": "python3"
  },
  "language_info": {
   "codemirror_mode": {
    "name": "ipython",
    "version": 3
   },
   "file_extension": ".py",
   "mimetype": "text/x-python",
   "name": "python",
   "nbconvert_exporter": "python",
   "pygments_lexer": "ipython3",
   "version": "3.7.0"
  }
 },
 "nbformat": 4,
 "nbformat_minor": 2
}
