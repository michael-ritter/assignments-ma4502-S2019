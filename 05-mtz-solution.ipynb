{
 "cells": [
  {
   "cell_type": "markdown",
   "metadata": {},
   "source": [
    "# Import Problem Instance\n",
    "We start by importing a simple problem instance to demonstrate the tsplib reader.\n"
   ]
  },
  {
   "cell_type": "code",
   "execution_count": 1,
   "metadata": {},
   "outputs": [
    {
     "data": {
      "text/plain": [
       "'Odyssey of Ulysses (Groetschel/Padberg)'"
      ]
     },
     "execution_count": 1,
     "metadata": {},
     "output_type": "execute_result"
    }
   ],
   "source": [
    "from tsplib95 import tsplib95\n",
    "import itertools\n",
    "import networkx as nx\n",
    "\n",
    "instance = tsplib95.load_problem('./tsplib/ulysses16.tsp')\n",
    "\n",
    "instance.comment"
   ]
  },
  {
   "cell_type": "markdown",
   "metadata": {},
   "source": [
    "Remember, this repository contains a small selection of TSP instances that you can use to test your algorithms.\n",
    "\n",
    "| name | nodes | description |\n",
    "|------|-------|-------------|\n",
    "| ulysses16.tsp | 16 | Odyssey of Ulysses |\n",
    "| ulysses7.tsp | 7 | subset of ulysses16 for testing purposes |\n",
    "| bayg29.tsp | 29 | 29 Cities in Bavaria |\n",
    "| bier127.tsp | 127 | 127 Biergaerten in Augsburg |\n",
    "| bier20.tsp | 20 | subset of bier127 |\n",
    "| brazil58.tsp | 58 | 58 cities in Brazil |\n",
    "| ali535.tsp | 535 | 535 Airports around the globe |\n",
    "| d18512.tsp | 18512 | 18512 places in Germany |"
   ]
  },
  {
   "cell_type": "markdown",
   "metadata": {},
   "source": [
    "The following calls show the dimension = number of nodes of the problem, its node set and the edge weights. The functions `instance.get_nodes()` and `instance.get_edges()` are implemented as iterators, so you can loop over the nodes or edges. To get a list of nodes or edges, you have to explicitly construct one using `list(instance.get_nodes())`. Note that node counting may start at 1 for some instances while others use 0 as starting point. For convenience, we store the index of the first node as `first_node`.\n"
   ]
  },
  {
   "cell_type": "code",
   "execution_count": 2,
   "metadata": {},
   "outputs": [
    {
     "name": "stdout",
     "output_type": "stream",
     "text": [
      "List of nodes:  [1, 2, 3, 4, 5, 6, 7, 8, 9, 10, 11, 12, 13, 14, 15, 16]\n",
      "edge {  1, 2 } has weight   6.\n",
      "edge {  1, 3 } has weight   5.\n",
      "edge {  1, 4 } has weight   3.\n",
      "edge {  1, 5 } has weight  11.\n",
      "edge {  1, 6 } has weight   8.\n",
      "edge {  1, 7 } has weight   7.\n",
      "edge {  1, 8 } has weight   1.\n",
      "edge {  1, 9 } has weight  12.\n",
      "edge {  1,10 } has weight   8.\n",
      "edge {  1,11 } has weight  26.\n",
      "edge {  1,12 } has weight   5.\n",
      "edge {  1,13 } has weight   5.\n",
      "edge {  1,14 } has weight   5.\n",
      "edge {  1,15 } has weight   7.\n",
      "edge {  1,16 } has weight   1.\n",
      "edge {  2, 3 } has weight   1.\n",
      "edge {  2, 4 } has weight   4.\n",
      "edge {  2, 5 } has weight  17.\n",
      "edge {  2, 6 } has weight  14.\n",
      "edge {  2, 7 } has weight  13.\n",
      "edge {  2, 8 } has weight   6.\n",
      "edge {  2, 9 } has weight  17.\n",
      "edge {  2,10 } has weight  13.\n",
      "edge {  2,11 } has weight  32.\n",
      "edge {  2,12 } has weight  11.\n",
      "edge {  2,13 } has weight  11.\n",
      "edge {  2,14 } has weight  11.\n",
      "edge {  2,15 } has weight  13.\n",
      "edge {  2,16 } has weight   7.\n",
      "edge {  3, 4 } has weight   5.\n",
      "edge {  3, 5 } has weight  16.\n",
      "edge {  3, 6 } has weight  13.\n",
      "edge {  3, 7 } has weight  12.\n",
      "edge {  3, 8 } has weight   6.\n",
      "edge {  3, 9 } has weight  16.\n",
      "edge {  3,10 } has weight  12.\n",
      "edge {  3,11 } has weight  31.\n",
      "edge {  3,12 } has weight  10.\n",
      "edge {  3,13 } has weight  10.\n",
      "edge {  3,14 } has weight  11.\n",
      "edge {  3,15 } has weight  12.\n",
      "edge {  3,16 } has weight   6.\n",
      "edge {  4, 5 } has weight  13.\n",
      "edge {  4, 6 } has weight  11.\n",
      "edge {  4, 7 } has weight  10.\n",
      "edge {  4, 8 } has weight   3.\n",
      "edge {  4, 9 } has weight  15.\n",
      "edge {  4,10 } has weight  11.\n",
      "edge {  4,11 } has weight  28.\n",
      "edge {  4,12 } has weight   8.\n",
      "edge {  4,13 } has weight   8.\n",
      "edge {  4,14 } has weight   8.\n",
      "edge {  4,15 } has weight   9.\n",
      "edge {  4,16 } has weight   5.\n",
      "edge {  5, 6 } has weight   4.\n",
      "edge {  5, 7 } has weight   6.\n",
      "edge {  5, 8 } has weight  11.\n",
      "edge {  5, 9 } has weight   8.\n",
      "edge {  5,10 } has weight   8.\n",
      "edge {  5,11 } has weight  16.\n",
      "edge {  5,12 } has weight   7.\n",
      "edge {  5,13 } has weight   7.\n",
      "edge {  5,14 } has weight   6.\n",
      "edge {  5,15 } has weight   4.\n",
      "edge {  5,16 } has weight  11.\n",
      "edge {  6, 7 } has weight   1.\n",
      "edge {  6, 8 } has weight   8.\n",
      "edge {  6, 9 } has weight   5.\n",
      "edge {  6,10 } has weight   4.\n",
      "edge {  6,11 } has weight  17.\n",
      "edge {  6,12 } has weight   3.\n",
      "edge {  6,13 } has weight   3.\n",
      "edge {  6,14 } has weight   3.\n",
      "edge {  6,15 } has weight   3.\n",
      "edge {  6,16 } has weight   8.\n",
      "edge {  7, 8 } has weight   7.\n",
      "edge {  7, 9 } has weight   5.\n",
      "edge {  7,10 } has weight   3.\n",
      "edge {  7,11 } has weight  18.\n",
      "edge {  7,12 } has weight   2.\n",
      "edge {  7,13 } has weight   2.\n",
      "edge {  7,14 } has weight   2.\n",
      "edge {  7,15 } has weight   3.\n",
      "edge {  7,16 } has weight   7.\n",
      "edge {  8, 9 } has weight  12.\n",
      "edge {  8,10 } has weight   8.\n",
      "edge {  8,11 } has weight  26.\n",
      "edge {  8,12 } has weight   5.\n",
      "edge {  8,13 } has weight   5.\n",
      "edge {  8,14 } has weight   5.\n",
      "edge {  8,15 } has weight   6.\n",
      "edge {  8,16 } has weight   2.\n",
      "edge {  9,10 } has weight   4.\n",
      "edge {  9,11 } has weight  15.\n",
      "edge {  9,12 } has weight   7.\n",
      "edge {  9,13 } has weight   7.\n",
      "edge {  9,14 } has weight   7.\n",
      "edge {  9,15 } has weight   8.\n",
      "edge {  9,16 } has weight  11.\n",
      "edge { 10,11 } has weight  19.\n",
      "edge { 10,12 } has weight   3.\n",
      "edge { 10,13 } has weight   4.\n",
      "edge { 10,14 } has weight   4.\n",
      "edge { 10,15 } has weight   6.\n",
      "edge { 10,16 } has weight   7.\n",
      "edge { 11,12 } has weight  20.\n",
      "edge { 11,13 } has weight  21.\n",
      "edge { 11,14 } has weight  20.\n",
      "edge { 11,15 } has weight  20.\n",
      "edge { 11,16 } has weight  25.\n",
      "edge { 12,13 } has weight   0.\n",
      "edge { 12,14 } has weight   1.\n",
      "edge { 12,15 } has weight   3.\n",
      "edge { 12,16 } has weight   5.\n",
      "edge { 13,14 } has weight   1.\n",
      "edge { 13,15 } has weight   3.\n",
      "edge { 13,16 } has weight   4.\n",
      "edge { 14,15 } has weight   2.\n",
      "edge { 14,16 } has weight   5.\n",
      "edge { 15,16 } has weight   7.\n"
     ]
    }
   ],
   "source": [
    "instance.dimension\n",
    "\n",
    "instance.get_nodes()\n",
    "print(\"List of nodes: \", list(instance.get_nodes()))\n",
    "\n",
    "first_node = min(instance.get_nodes())\n",
    "first_node\n",
    "\n",
    "for i,j in instance.get_edges():\n",
    "    if i >= j:\n",
    "        continue\n",
    "    print(f\"edge {{ {i:2},{j:2} }} has weight {instance.wfunc(i,j):3}.\")\n"
   ]
  },
  {
   "cell_type": "markdown",
   "metadata": {},
   "source": [
    "You have already seen how to draw a graph, here is the relevant code again."
   ]
  },
  {
   "cell_type": "code",
   "execution_count": 4,
   "metadata": {},
   "outputs": [
    {
     "data": {
      "text/plain": [
       "<matplotlib.collections.LineCollection at 0x11e506198>"
      ]
     },
     "execution_count": 4,
     "metadata": {},
     "output_type": "execute_result"
    },
    {
     "data": {
      "image/png": "[encoded data removed]",
      "text/plain": [
       "<Figure size 432x288 with 1 Axes>"
      ]
     },
     "metadata": {},
     "output_type": "display_data"
    }
   ],
   "source": [
    "G = instance.get_graph()\n",
    "if instance.is_depictable():\n",
    "    pos = {i: instance.get_display(i) for i in instance.get_nodes()}\n",
    "else:\n",
    "    pos = nx.drawing.layout.spring_layout(G)\n",
    "nx.draw_networkx_nodes(G, pos, node_color='#66a3ff', node_size=200)\n",
    "#nx.draw_networkx_labels(G, pos, font_weight='bold' )\n",
    "nx.draw_networkx_edges(G, pos,  edge_color='#e6e6e6')"
   ]
  },
  {
   "cell_type": "markdown",
   "metadata": {},
   "source": [
    "# Implementing the MTZ model in Gurobi\n",
    "We will implement the Miller-Tucker-Zemlin formulation using binary variables $x_{ij} \\in \\{0,1\\}$ to indicate whether arc $(i,j)$ is being used in the tour and variables $y_i \\ge 0$ as \"position variables\" for each node $i \\in V$. The formulation looks like this:\n",
    "\n",
    "\\begin{align}\n",
    "\\min\\;&\\sum_{i,j \\in V; i \\ne j} c_{i,j} \\cdot x_{i,j}\\\\\n",
    "&\\sum_{j \\ne i} x_{i,j} = 1 \\quad \\text{for all nodes $i$}\\\\\n",
    "&\\sum_{j \\ne i} x_{j,i} = 1 \\quad \\text{for all nodes $i$}\\\\\n",
    "&y_1 = 1\\\\\n",
    "&y_i \\le n \\quad \\text{for all nodes $i \\ne v_0$}\\\\\n",
    "&y_i \\ge 2 \\quad \\text{for all nodes $i \\ne v_0$}\\\\\n",
    "&y_i - y_j + (n-1) \\cdot x_{i,j} \\le n-2 \\quad \\text{for all nodes $i,j$ with $i,j \\ne 1$ and $i \\ne j$}\\\\\n",
    "&x_{i,j} \\in \\{0,1\\}\\\\\n",
    "&y_i \\ge 0\n",
    "\\end{align}"
   ]
  },
  {
   "cell_type": "markdown",
   "metadata": {},
   "source": [
    "## Creating the variables\n",
    "We start by creating the model and the variables. Notice that we already define the objective function by using the `obj` parameter upon variable creation. For demonstration purposes, we use a loop for defining the $x$ variables and a shortcut function for the $y$ variables. Note that the assumption $y_i \\ge 0$ is implicit."
   ]
  },
  {
   "cell_type": "code",
   "execution_count": 9,
   "metadata": {},
   "outputs": [],
   "source": [
    "import gurobipy as grb\n",
    "\n",
    "# create a new model\n",
    "model = grb.Model(name=\"MTZ TSP formulation\")\n",
    "\n",
    "# create dictionary with tupel as keys \n",
    "# elements of x can then be accesses via x[i,j]\n",
    "x = grb.tupledict()\n",
    "# filter discards all elements that do not fit the filter criteria\n",
    "for i,j in filter(lambda e: e[0] != e[1], instance.get_edges()): \n",
    "    # add variable with objective coefficient obj, type {0,1} (binary)\n",
    "    x[i,j] = model.addVar(obj=instance.wfunc(i,j), vtype=grb.GRB.BINARY, name=f\"x[{i},{j}]\")\n",
    "\n",
    "# add variable for every element of instance.get_nodes()\n",
    "y = model.addVars(instance.get_nodes(), name=\"y\")"
   ]
  },
  {
   "cell_type": "markdown",
   "metadata": {},
   "source": [
    "## Adding the constraints\n",
    "Next, we add the constraints for our model. Notice that $y_i \\ge 0$ is implicit and $x_{i,j} \\in \\{0,1\\}$ has been included in the variable definition already. We start with the simple constraints on the $y_i$ variables. Notice that we could also have used methods to set lower and upper bounds for the $y_i$ for most of the simple constraints.\n"
   ]
  },
  {
   "cell_type": "code",
   "execution_count": 12,
   "metadata": {},
   "outputs": [],
   "source": [
    "model.addConstr(y[first_node] == 1)\n",
    "for i in itertools.islice(instance.get_nodes(),first_node+1,None):\n",
    "    model.addConstr(y[i] <= instance.dimension)"
   ]
  },
  {
   "cell_type": "markdown",
   "metadata": {},
   "source": [
    "**Task 1:** Add another loop to formulate the constraints $y_i \\ge 2$ for all nodes $i \\ne v_0$."
   ]
  },
  {
   "cell_type": "code",
   "execution_count": null,
   "metadata": {},
   "outputs": [],
   "source": [
    "for i in itertools.islice(instance.get_nodes(),first_node+1,None):\n",
    "    model.addConstr(y[i] >= 2)"
   ]
  },
  {
   "cell_type": "markdown",
   "metadata": {},
   "source": [
    "The remaining constraints require iteration over all edges. We use the keys() set of our variables for this purpose to ensure we only iterate over edges that are actually defined."
   ]
  },
  {
   "cell_type": "code",
   "execution_count": 13,
   "metadata": {},
   "outputs": [],
   "source": [
    "for i,j in filter(lambda e: e[0] != e[1] and e[0] != first_node and e[1] != first_node, x.keys()):\n",
    "    model.addConstr(y[i] - y[j] + (instance.dimension-1)*x[i,j] <= (instance.dimension-2))"
   ]
  },
  {
   "cell_type": "markdown",
   "metadata": {},
   "source": [
    "**Task 2:** Add the in- and out-degree constraints\n",
    "\\begin{align}\n",
    "&\\sum_{j \\ne i} x_{i,j} = 1 \\quad \\text{for all nodes $i$}\\\\\n",
    "&\\sum_{j \\ne i} x_{j,i} = 1 \\quad \\text{for all nodes $i$}\\\\\n",
    "\\end{align}"
   ]
  },
  {
   "cell_type": "code",
   "execution_count": null,
   "metadata": {},
   "outputs": [],
   "source": [
    "for i in instance.get_nodes():\n",
    "    model.addConstr(sum(x[i,j] for j in instance.get_nodes() if j != i) == 1)\n",
    "    model.addConstr(sum(x[j,i] for j in instance.get_nodes() if j != i) == 1)"
   ]
  },
  {
   "cell_type": "markdown",
   "metadata": {},
   "source": [
    "## Starting the Optimization Process\n",
    "Finally, we set the objective to minimization and call the optimizer."
   ]
  },
  {
   "cell_type": "code",
   "execution_count": 14,
   "metadata": {},
   "outputs": [
    {
     "name": "stdout",
     "output_type": "stream",
     "text": [
      "Optimize a model with 240 rows, 256 columns and 660 nonzeros\n",
      "Variable types: 16 continuous, 240 integer (240 binary)\n",
      "Coefficient statistics:\n",
      "  Matrix range     [1e+00, 2e+01]\n",
      "  Objective range  [1e+00, 3e+01]\n",
      "  Bounds range     [1e+00, 1e+00]\n",
      "  RHS range        [1e+00, 2e+01]\n",
      "Found heuristic solution: objective 0.0000000\n",
      "\n",
      "Explored 0 nodes (0 simplex iterations) in 0.01 seconds\n",
      "Thread count was 1 (of 8 available processors)\n",
      "\n",
      "Solution count 1: 0 \n",
      "\n",
      "Optimal solution found (tolerance 1.00e-04)\n",
      "Best objective 0.000000000000e+00, best bound 0.000000000000e+00, gap 0.0000%\n"
     ]
    }
   ],
   "source": [
    "model.ModelSense = grb.GRB.MINIMIZE\n",
    "model.optimize()"
   ]
  },
  {
   "cell_type": "markdown",
   "metadata": {},
   "source": [
    "## Querying and Visualizing the Solution\n",
    "Before we visualize our result, let us look at a few key figures of our solution."
   ]
  },
  {
   "cell_type": "code",
   "execution_count": 17,
   "metadata": {},
   "outputs": [
    {
     "name": "stdout",
     "output_type": "stream",
     "text": [
      "Objective value: 0.0\n",
      "value of x variables: [0.0, 0.0, 0.0, 0.0, 0.0, 0.0, 0.0, 0.0, 0.0, 0.0, 0.0, 0.0, 0.0, 0.0, 0.0, 0.0, 0.0, 0.0, 0.0, 0.0, 0.0, 0.0, 0.0, 0.0, 0.0, 0.0, 0.0, 0.0, 0.0, 0.0, 0.0, 0.0, 0.0, 0.0, 0.0, 0.0, 0.0, 0.0, 0.0, 0.0, 0.0, 0.0, 0.0, 0.0, 0.0, 0.0, 0.0, 0.0, 0.0, 0.0, 0.0, 0.0, 0.0, 0.0, 0.0, 0.0, 0.0, 0.0, 0.0, 0.0, 0.0, 0.0, 0.0, 0.0, 0.0, 0.0, 0.0, 0.0, 0.0, 0.0, 0.0, 0.0, 0.0, 0.0, 0.0, 0.0, 0.0, 0.0, 0.0, 0.0, 0.0, 0.0, 0.0, 0.0, 0.0, 0.0, 0.0, 0.0, 0.0, 0.0, 0.0, 0.0, 0.0, 0.0, 0.0, 0.0, 0.0, 0.0, 0.0, 0.0, 0.0, 0.0, 0.0, 0.0, 0.0, 0.0, 0.0, 0.0, 0.0, 0.0, 0.0, 0.0, 0.0, 0.0, 0.0, 0.0, 0.0, 0.0, 0.0, 0.0, 0.0, 0.0, 0.0, 0.0, 0.0, 0.0, 0.0, 0.0, 0.0, 0.0, 0.0, 0.0, 0.0, 0.0, 0.0, 0.0, 0.0, 0.0, 0.0, 0.0, 0.0, 0.0, 0.0, 0.0, 0.0, 0.0, 0.0, 0.0, 0.0, 0.0, 0.0, 0.0, 0.0, 0.0, 0.0, 0.0, 0.0, 0.0, 0.0, 0.0, 0.0, 0.0, 0.0, 0.0, 0.0, 0.0, 0.0, 0.0, 0.0, 0.0, 0.0, 0.0, 0.0, 0.0, 0.0, 0.0, 0.0, 0.0, 0.0, 0.0, 0.0, 0.0, 0.0, 0.0, 0.0, 0.0, 0.0, 0.0, 0.0, 0.0, 0.0, 0.0, 0.0, 0.0, 0.0, 0.0, 0.0, 0.0, 0.0, 0.0, 0.0, 0.0, 0.0, 0.0, 0.0, 0.0, 0.0, 0.0, 0.0, 0.0, 0.0, 0.0, 0.0, 0.0, 0.0, 0.0, 0.0, 0.0, 0.0, 0.0, 0.0, 0.0, 0.0, 0.0, 0.0, 0.0, 0.0, 0.0, 0.0, 0.0, 0.0, 0.0, 0.0, 0.0, 0.0, 0.0, 0.0, 0.0, 0.0, 0.0, 1.0, 0.0, 0.0, 0.0, 0.0, 0.0, 0.0, 0.0, 0.0, 0.0, 0.0, 0.0, 0.0, 0.0, 0.0, 0.0]\n"
     ]
    },
    {
     "data": {
      "text/plain": [
       "[]"
      ]
     },
     "execution_count": 17,
     "metadata": {},
     "output_type": "execute_result"
    }
   ],
   "source": [
    "print(f\"Objective value: {model.ObjVal}\")\n",
    "print(f\"value of x variables: {model.x}\")\n",
    "\n",
    "solution_edges = [(i,j) for i,j in x.keys() if x[i,j].x > 0.9]\n",
    "solution_edges\n"
   ]
  },
  {
   "cell_type": "markdown",
   "metadata": {},
   "source": [
    "For debugging purposes, it might be helpful to export the model held by Gurobi into a human-readable format:"
   ]
  },
  {
   "cell_type": "code",
   "execution_count": 20,
   "metadata": {},
   "outputs": [],
   "source": [
    "model.write('test.lp')"
   ]
  },
  {
   "cell_type": "markdown",
   "metadata": {},
   "source": [
    " Finally, let us visualize the solution using NetworkX. In this case, we need to prescribe positions and draw the nodes and two layers of edges separately."
   ]
  },
  {
   "cell_type": "code",
   "execution_count": 23,
   "metadata": {},
   "outputs": [
    {
     "data": {
      "image/png": "[encoded data removed]",
      "text/plain": [
       "<Figure size 432x288 with 1 Axes>"
      ]
     },
     "metadata": {},
     "output_type": "display_data"
    }
   ],
   "source": [
    "if instance.is_depictable():\n",
    "    pos = {i: instance.get_display(i) for i in instance.get_nodes()}\n",
    "else:\n",
    "    pos = nx.drawing.layout.spring_layout(G)\n",
    "nx.draw_networkx_nodes(G, pos, node_color='#66a3ff', node_size=500)\n",
    "nx.draw_networkx_labels(G, pos, font_weight='bold' )\n",
    "nx.draw_networkx_edges(G, pos,  edge_color='#e6e6e6')\n",
    "nx.draw_networkx_edges(G, pos,  edgelist=solution_edges, edge_color='#ffa31a', width=4)"
   ]
  },
  {
   "cell_type": "code",
   "execution_count": null,
   "metadata": {},
   "outputs": [],
   "source": []
  }
 ],
 "metadata": {
  "kernelspec": {
   "display_name": "Python 3",
   "language": "python",
   "name": "python3"
  },
  "language_info": {
   "codemirror_mode": {
    "name": "ipython",
    "version": 3
   },
   "file_extension": ".py",
   "mimetype": "text/x-python",
   "name": "python",
   "nbconvert_exporter": "python",
   "pygments_lexer": "ipython3",
   "version": "3.7.1"
  }
 },
 "nbformat": 4,
 "nbformat_minor": 2
}
