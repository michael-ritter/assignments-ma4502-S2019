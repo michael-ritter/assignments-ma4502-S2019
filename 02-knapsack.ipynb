{
 "cells": [
  {
   "cell_type": "markdown",
   "metadata": {},
   "source": [
    "# Knapsack: Greedy and 2-Approximation"
   ]
  },
  {
   "cell_type": "markdown",
   "metadata": {},
   "source": [
    "In the following, we will use the knapsack instance from the lecture as an easy example with a weight capacity of $W=10$. We will index the items from $1$ to $7$.\n",
    "\n",
    "| item   |   1 |  2 |   3 |   4 |  5 |   6 |  7  |\n",
    "|--------|-----|----|-----|-----|-----|----|-----|\n",
    "| weight |   4 |  1 |   2 |   3 |   2 |  1 |   2 |\n",
    "| value  | 299 | 73 | 159 | 221 | 137 | 89 | 157 |"
   ]
  },
  {
   "cell_type": "code",
   "execution_count": 54,
   "metadata": {},
   "outputs": [],
   "source": [
    "class Item:\n",
    "    def __init__(self, number, weight=0, value=0):\n",
    "        self.number = number\n",
    "        self.value = value\n",
    "        self.weight = weight\n",
    "        \n",
    "items = [Item(1,4,299), Item(2,1,73), Item(3,2,159), Item(4,3,221), Item(5,2,137), Item(6,1,89), Item(7,2,157)]\n",
    "capacity = 10"
   ]
  },
  {
   "cell_type": "markdown",
   "metadata": {},
   "source": [
    "We will start by implementing the simple greedy approach by sorting for the values only. Try to fill in the blanks in the following code to get a working implementation of that algorithm. We use `sorted` to sort our list of items. The `key` argument is a function that returns some comparable value that is used as the basis for sorting the list. Here, we use a so-called _lambda function_ to declare a small inline function that take one argument `x` and returns `x.value`. If we feed an `Item` object to that function, it will returns its value, so we effectively sort the list by values. As the normal sorting order is ascending, we also need to supply the `reverse=True` parameter. "
   ]
  },
  {
   "cell_type": "code",
   "execution_count": 55,
   "metadata": {},
   "outputs": [],
   "source": [
    "sorted_items = sorted(items, key = lambda x: x.value, reverse=True)"
   ]
  },
  {
   "cell_type": "code",
   "execution_count": 56,
   "metadata": {},
   "outputs": [
    {
     "name": "stdout",
     "output_type": "stream",
     "text": [
      "item 1 has value 299 and weight 4\n",
      "item 4 has value 221 and weight 3\n",
      "item 3 has value 159 and weight 2\n",
      "item 7 has value 157 and weight 2\n",
      "item 5 has value 137 and weight 2\n",
      "item 6 has value 89 and weight 1\n",
      "item 2 has value 73 and weight 1\n"
     ]
    }
   ],
   "source": [
    "for item in sorted_items:\n",
    "    print(f\"item {item.number} has value {item.value} and weight {item.weight}\")"
   ]
  },
  {
   "cell_type": "code",
   "execution_count": 58,
   "metadata": {},
   "outputs": [
    {
     "name": "stdout",
     "output_type": "stream",
     "text": [
      "Computed solution has a total weight of 9, a total value of 679 and contains the items {1, 3, 4}.\n"
     ]
    }
   ],
   "source": [
    "selected_items = set()\n",
    "total_value = 0\n",
    "total_weight = 0\n",
    "i = 0\n",
    "while total_weight + sorted_items[i].weight <= capacity:\n",
    "    selected_items.add(sorted_items[i].number)\n",
    "    total_weight += sorted_items[i].weight\n",
    "    total_value += sorted_items[i].value\n",
    "    i += 1\n",
    "\n",
    "print(f\"Computed solution has a total weight of {total_weight}, a total value of {total_value} and contains the items {selected_items}.\")"
   ]
  },
  {
   "cell_type": "markdown",
   "metadata": {},
   "source": [
    "## Problem 1\n",
    "Try to modify the algorithm above so that it yields the 2-approximation algorithm discussed in the lecture."
   ]
  },
  {
   "cell_type": "code",
   "execution_count": 59,
   "metadata": {},
   "outputs": [],
   "source": []
  },
  {
   "cell_type": "markdown",
   "metadata": {},
   "source": [
    "## Problem 2: Dynamic Programming for Knapsack"
   ]
  },
  {
   "cell_type": "markdown",
   "metadata": {},
   "source": [
    "For an exact solution of the knapsack problem, we have discussed a dynamic programming approach. Define $C_j(\\gamma)$ as the minimum total weight of a feasible knapsack on items in $\\{0,\\ldots, j\\}$ with exactly value $\\gamma$. Then the following recursion can be used:\n",
    "\\begin{align*}\n",
    "   C_j(\\gamma) &= \\min\\left\\{C_{j-1}(\\gamma), C_{j-1}(\\gamma-v_j) + w_j\\right\\}\\\\\n",
    "   C_{j}(\\gamma) &= \\infty, \\quad \\text{if it exceeds $W$}\n",
    "\\end{align*}\n",
    "where we set initial values as\n",
    "\\begin{align*}\n",
    "    C_0(\\gamma) &=\n",
    "                  \\begin{cases}\n",
    "                    0, &\\text{for $\\gamma = 0$},\\\\\n",
    "                    \\infty, &\\text{otherwise}.\n",
    "                  \\end{cases}\n",
    "  \\end{align*}\n",
    "  \n",
    "1. Implement this dynamic programming algorithm and test it on the knapsack instance defined above.\n",
    "1. Make sure your algorithm does not just report the value of the solution, but also the corresponding knapsack."
   ]
  },
  {
   "cell_type": "code",
   "execution_count": null,
   "metadata": {},
   "outputs": [],
   "source": []
  },
  {
   "cell_type": "markdown",
   "metadata": {},
   "source": [
    "## Problem 3: An FPTAS for Knapsack\n",
    "Modify your solution to implement the FPTAS from the lecture."
   ]
  },
  {
   "cell_type": "code",
   "execution_count": null,
   "metadata": {},
   "outputs": [],
   "source": []
  }
 ],
 "metadata": {
  "kernelspec": {
   "display_name": "Python 3",
   "language": "python",
   "name": "python3"
  },
  "language_info": {
   "codemirror_mode": {
    "name": "ipython",
    "version": 3
   },
   "file_extension": ".py",
   "mimetype": "text/x-python",
   "name": "python",
   "nbconvert_exporter": "python",
   "pygments_lexer": "ipython3",
   "version": "3.7.3"
  }
 },
 "nbformat": 4,
 "nbformat_minor": 2
}
