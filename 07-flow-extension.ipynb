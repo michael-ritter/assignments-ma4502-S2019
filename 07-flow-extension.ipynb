{
 "cells": [
  {
   "cell_type": "markdown",
   "metadata": {},
   "source": [
    "# Import Problem Instance\n",
    "We start by importing a simple problem instance to demonstrate the tsplib reader.\n"
   ]
  },
  {
   "cell_type": "code",
   "execution_count": null,
   "metadata": {},
   "outputs": [],
   "source": [
    "from tsplib95 import tsplib95\n",
    "import itertools\n",
    "import networkx as nx\n",
    "\n",
    "instance = tsplib95.load_problem('./tsplib/ulysses16.tsp')\n",
    "\n",
    "instance.comment"
   ]
  },
  {
   "cell_type": "markdown",
   "metadata": {},
   "source": [
    "Remember, this repository contains a small selection of TSP instances that you can use to test your algorithms.\n",
    "\n",
    "| name | nodes | description |\n",
    "|------|-------|-------------|\n",
    "| ulysses16.tsp | 16 | Odyssey of Ulysses |\n",
    "| ulysses7.tsp | 7 | subset of ulysses16 for testing purposes |\n",
    "| bayg29.tsp | 29 | 29 Cities in Bavaria |\n",
    "| bier127.tsp | 127 | 127 Biergaerten in Augsburg |\n",
    "| bier20.tsp | 20 | subset of bier127 |\n",
    "| brazil58.tsp | 58 | 58 cities in Brazil |\n",
    "| ali535.tsp | 535 | 535 Airports around the globe |\n",
    "| d18512.tsp | 18512 | 18512 places in Germany |"
   ]
  },
  {
   "cell_type": "markdown",
   "metadata": {},
   "source": [
    "The following calls show the dimension = number of nodes of the problem, its node set and the edge weights. The functions `instance.get_nodes()` and `instance.get_edges()` are implemented as iterators, so you can loop over the nodes or edges. To get a list of nodes or edges, you have to explicitly construct one using `list(instance.get_nodes())`. Note that node counting may start at 1 for some instances while others use 0 as starting point. For convenience, we store the index of the first node as `first_node`.\n"
   ]
  },
  {
   "cell_type": "code",
   "execution_count": null,
   "metadata": {},
   "outputs": [],
   "source": [
    "instance.dimension\n",
    "\n",
    "instance.get_nodes()\n",
    "print(\"List of nodes: \", list(instance.get_nodes()))\n",
    "\n",
    "first_node = min(instance.get_nodes())\n",
    "first_node\n",
    "\n",
    "for i,j in instance.get_edges():\n",
    "    if i >= j:\n",
    "        continue\n",
    "    print(f\"edge {{ {i:2},{j:2} }} has weight {instance.wfunc(i,j):3}.\")\n"
   ]
  },
  {
   "cell_type": "markdown",
   "metadata": {},
   "source": [
    "You have already seen how to draw a graph, here is the relevant code again."
   ]
  },
  {
   "cell_type": "code",
   "execution_count": null,
   "metadata": {},
   "outputs": [],
   "source": [
    "G = instance.get_graph()\n",
    "if instance.is_depictable():\n",
    "    pos = {i: instance.get_display(i) for i in instance.get_nodes()}\n",
    "else:\n",
    "    pos = nx.drawing.layout.spring_layout(G)\n",
    "nx.draw_networkx_nodes(G, pos, node_color='#66a3ff', node_size=200)\n",
    "nx.draw_networkx_labels(G, pos, font_weight='bold' )\n",
    "nx.draw_networkx_edges(G, pos,  edge_color='#e6e6e6')"
   ]
  },
  {
   "cell_type": "markdown",
   "metadata": {},
   "source": [
    "# Implementing a multi commodity flow model in Gurobi\n",
    "We will implement a multi commodity flow model using binary variables $x_{ij} \\in \\{0,1\\}$ to indicate whether edge $\\{i,j\\}$ is being used in the tour. For the flow we use variables $y_{i,j,k}$ indicating the flow of commodity $k$ from node $v_0$ into node $k$ along arc $(i,j)$. Flow is only allowed on arcs that are used in the tour and the capacity of each such arc is $1$, we send $2$ units of flow from $v_0$ to $k$. For the formulation, we employ the condition that $i < j$ for any edge $\\{i,j\\}$ for the $x$-variables. The formulation looks like this:\n",
    "\n",
    "\\begin{align}\n",
    "\\min\\;&\\sum_{i,j \\in E} c_{i,j} \\cdot x_{i,j}\\\\\n",
    "&\\sum_{j \\ne i} x_{i,j} = 2 \\quad \\text{for all nodes $i$}\\\\\n",
    "&\\sum_{j \\ne k} y_{v_0,j,k} = 2 \\quad \\text{for all nodes $k \\ne v_0$}\\\\\n",
    "&\\sum_{j \\ne k} y_{j,v_0,k} = 0 \\quad \\text{for all nodes $k \\ne v_0$}\\\\\n",
    "&\\sum_{j \\ne i} y_{j,i,k} - \\sum_{j \\ne i} y_{i,j,k} = 0 \\quad \\text{for all nodes $k \\ne v_0$ and all nodes $i \\notin \\{v_0,k\\}$}\\\\\n",
    "&y_{i,j,k} \\le x_{i,j} \\quad \\text{for all arcs $(i,j)$ and all $k \\ne v_0$}\\\\\n",
    "&y_{j,i,k} \\le x_{i,j} \\quad \\text{for all arcs $(i,j)$ and all $k \\ne v_0$}\\\\\n",
    "&x_{i,j} \\in \\{0,1\\}\\\\\n",
    "&y_{i,j,k} \\ge 0 \\quad \\text{for all $k \\ne 1$}\n",
    "\\end{align}\n",
    "\n",
    "## Creating the variables\n",
    "We start by creating the model and the variables and setting the objective.\n"
   ]
  },
  {
   "cell_type": "code",
   "execution_count": null,
   "metadata": {},
   "outputs": [],
   "source": [
    "import gurobipy as grb\n",
    "\n",
    "model = grb.Model(name=\"Multi Commodity Flow TSP Formulation\")\n",
    "model.reset()\n",
    "\n",
    "x = model.addVars(filter(lambda e: e[0] < e[1], instance.get_edges()), vtype=grb.GRB.BINARY, name=\"x\")\n",
    "\n",
    "y = model.addVars(filter(lambda e: e[0] != e[1], instance.get_edges()), range(first_node+1, instance.dimension+1), name=\"y\")\n",
    "\n",
    "model.setObjective(sum(x[i,j]*instance.wfunc(i,j) for i,j in x.keys()))\n"
   ]
  },
  {
   "cell_type": "markdown",
   "metadata": {},
   "source": [
    "## Degree Constraints\n",
    "We first add the degree constraints for the $x$-variables:\n",
    "\\begin{align}\n",
    "&\\sum_{j \\ne i} x_{i,j} = 2 \\quad \\text{for all nodes $i$}\n",
    "\\end{align}"
   ]
  },
  {
   "cell_type": "code",
   "execution_count": null,
   "metadata": {},
   "outputs": [],
   "source": [
    "for i in instance.get_nodes():\n",
    "    model.addConstr(x.sum(i,'*') + x.sum('*',i) == 2, name=f\"degree[{i}]\")"
   ]
  },
  {
   "cell_type": "markdown",
   "metadata": {},
   "source": [
    "## Flow Constraints\n",
    "**Task 1:** Add the flow conservations constraints as well as the in- and out-flow constraints for $v_0$ for each commodity k:"
   ]
  },
  {
   "cell_type": "code",
   "execution_count": null,
   "metadata": {},
   "outputs": [],
   "source": []
  },
  {
   "cell_type": "markdown",
   "metadata": {},
   "source": [
    "## Capacity Constraints\n",
    "**Task 2:** Add the capacity constraints:\n",
    "\\begin{align}\n",
    "&y_{i,j,k} \\le x_{i,j} \\quad \\text{for all arcs $(i,j)$ and all $k \\ne v_0$}\\\\\n",
    "&y_{j,i,k} \\le x_{i,j} \\quad \\text{for all arcs $(i,j)$ and all $k \\ne v_0$}\n",
    "\\end{align}"
   ]
  },
  {
   "cell_type": "code",
   "execution_count": null,
   "metadata": {},
   "outputs": [],
   "source": []
  },
  {
   "cell_type": "markdown",
   "metadata": {},
   "source": [
    "## Starting the Optimization Process\n",
    "Finally, we set the objective to minimization and call the optimizer."
   ]
  },
  {
   "cell_type": "code",
   "execution_count": null,
   "metadata": {},
   "outputs": [],
   "source": [
    "model.ModelSense = grb.GRB.MINIMIZE\n",
    "model.reset()\n",
    "model.optimize()"
   ]
  },
  {
   "cell_type": "markdown",
   "metadata": {},
   "source": [
    "## Querying and Visualizing the Solution\n",
    "Before we visualize our result, let us look at a few key figures of our solution."
   ]
  },
  {
   "cell_type": "code",
   "execution_count": null,
   "metadata": {},
   "outputs": [],
   "source": [
    "model.ObjVal\n",
    "\n",
    "solution_edges = [(i,j) for i,j in x.keys() if x[i,j].x > 0.9]\n",
    "solution_edges\n",
    "\n",
    "flow_edges = [f\"({i},{j},{k}): {y[i,j,k].x}\" for i,j,k in y.keys() if y[i,j,k].x > 0]\n",
    "flow_edges"
   ]
  },
  {
   "cell_type": "markdown",
   "metadata": {},
   "source": [
    "For debugging purposes, it might be helpful to export the model held by Gurobi into a human-readable format:"
   ]
  },
  {
   "cell_type": "code",
   "execution_count": null,
   "metadata": {},
   "outputs": [],
   "source": [
    "model.write('test.lp')"
   ]
  },
  {
   "cell_type": "markdown",
   "metadata": {},
   "source": [
    "Finally, let us visualize the solution using NetworkX. In this case, we need to prescribe positions and draw the nodes and two layers of edges separately."
   ]
  },
  {
   "cell_type": "code",
   "execution_count": null,
   "metadata": {},
   "outputs": [],
   "source": [
    "if instance.is_depictable():\n",
    "    pos = {i: instance.get_display(i) for i in instance.get_nodes()}\n",
    "else:\n",
    "    pos = nx.drawing.layout.spring_layout(G)\n",
    "nx.draw_networkx_nodes(G, pos, node_color='#66a3ff', node_size=500)\n",
    "nx.draw_networkx_labels(G, pos, font_weight='bold' )\n",
    "nx.draw_networkx_edges(G, pos,  edge_color='#e6e6e6')\n",
    "nx.draw_networkx_edges(G, pos,  edgelist=solution_edges, edge_color='#ffa31a', width=4)"
   ]
  },
  {
   "cell_type": "markdown",
   "metadata": {},
   "source": [
    "**Task 3:** Test the model for different instances. How does it compare to the MTZ formulation?"
   ]
  },
  {
   "cell_type": "code",
   "execution_count": null,
   "metadata": {},
   "outputs": [],
   "source": []
  }
 ],
 "metadata": {
  "kernelspec": {
   "display_name": "Python 3",
   "language": "python",
   "name": "python3"
  },
  "language_info": {
   "codemirror_mode": {
    "name": "ipython",
    "version": 3
   },
   "file_extension": ".py",
   "mimetype": "text/x-python",
   "name": "python",
   "nbconvert_exporter": "python",
   "pygments_lexer": "ipython3",
   "version": "3.7.1"
  }
 },
 "nbformat": 4,
 "nbformat_minor": 2
}
