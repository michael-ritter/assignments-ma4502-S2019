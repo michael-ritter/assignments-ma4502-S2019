{
 "cells": [
  {
   "cell_type": "markdown",
   "metadata": {},
   "source": [
    "# An Assignment Problem\n",
    "We want to assign students to thesis advisors (1:1)"
   ]
  },
  {
   "cell_type": "markdown",
   "metadata": {},
   "source": [
    "$$\\begin{array}{rll}\n",
    " \\text{max} & \\sum_{i=1}^{10} \\sum_{j=1}^{10} w_{ij} \\cdot x_{ij} \\\\\n",
    " \\text{s.t.} & \\sum_{i=1}^{10} x_{ij} = 1 \\quad \\text{for each $j$}\\\\\n",
    "  \\text{s.t.} & \\sum_{j=1}^{10} x_{ij} = 1 \\quad \\text{for each $i$}\\\\\n",
    " & x_{ij} \\in \\lbrace 0,1 \\rbrace\n",
    "\\end{array}\n",
    "$$"
   ]
  },
  {
   "cell_type": "markdown",
   "metadata": {},
   "source": [
    "### Step 1: Loading Gurobi"
   ]
  },
  {
   "cell_type": "code",
   "execution_count": null,
   "metadata": {},
   "outputs": [],
   "source": [
    "import gurobipy as grb\n",
    "import random"
   ]
  },
  {
   "cell_type": "markdown",
   "metadata": {},
   "source": [
    "\n",
    "### Step 2: Create a Model"
   ]
  },
  {
   "cell_type": "code",
   "execution_count": null,
   "metadata": {
    "collapsed": false,
    "jupyter": {
     "outputs_hidden": false
    }
   },
   "outputs": [],
   "source": [
    "m = grb.Model()"
   ]
  },
  {
   "cell_type": "markdown",
   "metadata": {},
   "source": [
    "### Step 3: Create Index Sets"
   ]
  },
  {
   "cell_type": "code",
   "execution_count": null,
   "metadata": {
    "collapsed": false,
    "jupyter": {
     "outputs_hidden": false
    }
   },
   "outputs": [],
   "source": [
    "students = [\"Alice\", \"Bob\", \"Carol\", \"Dave\", \"Eve\",\n",
    "            \"Felix\", \"Grace\",\"Humphrey\", \"Isabel\", \"Jack\"]\n",
    "advisors = [\"Prof. Zachary\", \"Prof. Yessica\", \"Prof. Xavier\",\n",
    "            \"Prof. Winona\", \"Prof. Victor\", \"Prof. Uma\", \"Prof. Thomas\",\n",
    "            \"Prof. Shannon\", \"Prof. Raymond\", \"Prof. Quincy\"]\n",
    "preferences = {(stud, adv): random.randint(1,10) for stud in students for adv in advisors}"
   ]
  },
  {
   "cell_type": "code",
   "execution_count": null,
   "metadata": {},
   "outputs": [],
   "source": [
    "preferences"
   ]
  },
  {
   "cell_type": "markdown",
   "metadata": {},
   "source": [
    "### Step 4: Create Variables and Set Objective Coefficients"
   ]
  },
  {
   "cell_type": "code",
   "execution_count": null,
   "metadata": {
    "collapsed": true,
    "jupyter": {
     "outputs_hidden": true
    }
   },
   "outputs": [],
   "source": [
    "x=m.addVars(students, advisors, obj=preferences, vtype=grb.GRB.BINARY)"
   ]
  },
  {
   "cell_type": "code",
   "execution_count": null,
   "metadata": {},
   "outputs": [],
   "source": [
    "x"
   ]
  },
  {
   "cell_type": "markdown",
   "metadata": {},
   "source": [
    "### Step 5: Add Constraints"
   ]
  },
  {
   "cell_type": "code",
   "execution_count": null,
   "metadata": {
    "collapsed": false,
    "jupyter": {
     "outputs_hidden": false
    }
   },
   "outputs": [],
   "source": [
    "c1 = m.addConstrs(x.sum(i,'*') == 1 for i in students)\n",
    "c2 = m.addConstrs(x.sum('*',j) == 1 for j in advisors)"
   ]
  },
  {
   "cell_type": "markdown",
   "metadata": {},
   "source": [
    "### Step 6: Solve"
   ]
  },
  {
   "cell_type": "code",
   "execution_count": null,
   "metadata": {
    "collapsed": false,
    "jupyter": {
     "outputs_hidden": false
    },
    "scrolled": true
   },
   "outputs": [],
   "source": [
    "m.optimize()"
   ]
  },
  {
   "cell_type": "markdown",
   "metadata": {},
   "source": [
    "### Step 7: Display Solution"
   ]
  },
  {
   "cell_type": "code",
   "execution_count": null,
   "metadata": {
    "collapsed": false,
    "jupyter": {
     "outputs_hidden": false
    }
   },
   "outputs": [],
   "source": [
    "print(f\"Solution Status: {m.status}\")\n",
    "\n",
    "pairs = [(stud, adv) for stud in students for adv in advisors if x[stud,adv].x > 0.9]\n",
    "for stud,adv in pairs:\n",
    "    print(f\"{stud:8} does a thesis with {adv}.\")"
   ]
  },
  {
   "cell_type": "markdown",
   "metadata": {},
   "source": [
    "# An Variation of the Assignment Problem\n",
    "We want to assign students to thesis advisors. Each thesis advisor may take up to 3 students."
   ]
  },
  {
   "cell_type": "markdown",
   "metadata": {},
   "source": [
    "$$\\begin{array}{rll}\n",
    " \\text{max} & \\sum_{i=1}^{10} \\sum_{j=1}^{10} w_{ij} \\cdot x_{ij} \\\\\n",
    " \\text{s.t.} & \\sum_{i=1}^{10} x_{ij} \\le 3 \\quad \\text{for each $j$}\\\\\n",
    "  \\text{s.t.} & \\sum_{j=1}^{10} x_{ij} = 1 \\quad \\text{for each $i$}\\\\\n",
    " & x_{ij} \\in \\lbrace 0,1 \\rbrace\n",
    "\\end{array}\n",
    "$$"
   ]
  },
  {
   "cell_type": "markdown",
   "metadata": {},
   "source": [
    "### Step 1: Loading Gurobi"
   ]
  },
  {
   "cell_type": "code",
   "execution_count": null,
   "metadata": {},
   "outputs": [],
   "source": [
    "import gurobipy as grb\n",
    "import random"
   ]
  },
  {
   "cell_type": "markdown",
   "metadata": {},
   "source": [
    "\n",
    "### Step 2: Create a Model"
   ]
  },
  {
   "cell_type": "code",
   "execution_count": null,
   "metadata": {
    "collapsed": false,
    "jupyter": {
     "outputs_hidden": false
    }
   },
   "outputs": [],
   "source": [
    "m = grb.Model()"
   ]
  },
  {
   "cell_type": "markdown",
   "metadata": {},
   "source": [
    "### Step 3: Create Index Sets"
   ]
  },
  {
   "cell_type": "code",
   "execution_count": null,
   "metadata": {
    "collapsed": false,
    "jupyter": {
     "outputs_hidden": false
    }
   },
   "outputs": [],
   "source": [
    "students = [\"Alice\", \"Bob\", \"Carol\", \"Dave\", \"Eve\",\n",
    "            \"Felix\", \"Grace\",\"Humphrey\", \"Isabel\", \"Jack\"]\n",
    "advisors = [\"Prof. Zachary\", \"Prof. Yessica\", \"Prof. Xavier\",\n",
    "            \"Prof. Winona\", \"Prof. Victor\", \"Prof. Uma\", \"Prof. Thomas\",\n",
    "            \"Prof. Shannon\", \"Prof. Raymond\", \"Prof. Quincy\"]\n",
    "preferences = {(stud, adv): random.randint(1,10) for stud in students for adv in advisors}"
   ]
  },
  {
   "cell_type": "code",
   "execution_count": null,
   "metadata": {},
   "outputs": [],
   "source": [
    "preferences"
   ]
  },
  {
   "cell_type": "markdown",
   "metadata": {},
   "source": [
    "### Step 4: Create Variables and Set Objective Coefficients"
   ]
  },
  {
   "cell_type": "code",
   "execution_count": null,
   "metadata": {
    "collapsed": true,
    "jupyter": {
     "outputs_hidden": true
    }
   },
   "outputs": [],
   "source": [
    "x=m.addVars(students, advisors, obj=preferences, vtype=grb.GRB.BINARY)\n",
    "m.modelsense=grb.GRB.MAXIMIZE"
   ]
  },
  {
   "cell_type": "markdown",
   "metadata": {},
   "source": [
    "### Step 5: Add Constraints"
   ]
  },
  {
   "cell_type": "code",
   "execution_count": null,
   "metadata": {
    "collapsed": false,
    "jupyter": {
     "outputs_hidden": false
    }
   },
   "outputs": [],
   "source": [
    "c1 = m.addConstrs(grb.quicksum(x[i,j] for j in advisors) == 1 for i in students)\n",
    "c2 = m.addConstrs(grb.quicksum(x[i,j] for i in students) <= 3 for j in advisors)"
   ]
  },
  {
   "cell_type": "markdown",
   "metadata": {},
   "source": [
    "### Step 6: Solve"
   ]
  },
  {
   "cell_type": "code",
   "execution_count": null,
   "metadata": {
    "collapsed": false,
    "jupyter": {
     "outputs_hidden": false
    },
    "scrolled": true
   },
   "outputs": [],
   "source": [
    "m.optimize()"
   ]
  },
  {
   "cell_type": "markdown",
   "metadata": {},
   "source": [
    "### Step 7: Display Solution"
   ]
  },
  {
   "cell_type": "code",
   "execution_count": null,
   "metadata": {
    "collapsed": false,
    "jupyter": {
     "outputs_hidden": false
    }
   },
   "outputs": [],
   "source": [
    "print(f\"Solution Status: {m.status}\")\n",
    "\n",
    "pairs = [(stud, adv) for stud in students for adv in advisors if x[stud,adv].x > 0.9]\n",
    "for stud,adv in pairs:\n",
    "    print(f\"{stud:8} does a thesis with {adv}.\")"
   ]
  },
  {
   "cell_type": "code",
   "execution_count": null,
   "metadata": {},
   "outputs": [],
   "source": []
  }
 ],
 "metadata": {
  "anaconda-cloud": {},
  "kernelspec": {
   "display_name": "Python 3",
   "language": "python",
   "name": "python3"
  },
  "language_info": {
   "codemirror_mode": {
    "name": "ipython",
    "version": 3
   },
   "file_extension": ".py",
   "mimetype": "text/x-python",
   "name": "python",
   "nbconvert_exporter": "python",
   "pygments_lexer": "ipython3",
   "version": "3.7.0"
  }
 },
 "nbformat": 4,
 "nbformat_minor": 4
}
