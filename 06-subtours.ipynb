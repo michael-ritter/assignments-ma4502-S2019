{
 "cells": [
  {
   "cell_type": "markdown",
   "metadata": {},
   "source": [
    "# Import Problem Instance\n",
    "We start by importing a simple problem instance to demonstrate the tsplib reader.\n"
   ]
  },
  {
   "cell_type": "code",
   "execution_count": null,
   "metadata": {},
   "outputs": [],
   "source": [
    "from tsplib95 import tsplib95\n",
    "import itertools\n",
    "import networkx as nx\n",
    "\n",
    "instance = tsplib95.load_problem('./tsplib/ulysses16.tsp')\n",
    "\n",
    "instance.comment"
   ]
  },
  {
   "cell_type": "markdown",
   "metadata": {},
   "source": [
    "Remember, this repository contains a small selection of TSP instances that you can use to test your algorithms.\n",
    "\n",
    "| name | nodes | description |\n",
    "|------|-------|-------------|\n",
    "| ulysses16.tsp | 16 | Odyssey of Ulysses |\n",
    "| ulysses7.tsp | 7 | subset of ulysses16 for testing purposes |\n",
    "| bayg29.tsp | 29 | 29 Cities in Bavaria |\n",
    "| bier127.tsp | 127 | 127 Biergaerten in Augsburg |\n",
    "| bier20.tsp | 20 | subset of bier127 |\n",
    "| brazil58.tsp | 58 | 58 cities in Brazil |\n",
    "| ali535.tsp | 535 | 535 Airports around the globe |\n",
    "| d18512.tsp | 18512 | 18512 places in Germany |"
   ]
  },
  {
   "cell_type": "markdown",
   "metadata": {},
   "source": [
    "The following calls show the dimension = number of nodes of the problem, its node set and the edge weights. The functions `instance.get_nodes()` and `instance.get_edges()` are implemented as iterators, so you can loop over the nodes or edges. To get a list of nodes or edges, you have to explicitly construct one using `list(instance.get_nodes())`. Note that node counting may start at 1 for some instances while others use 0 as starting point. For convenience, we store the index of the first node as `first_node`.\n"
   ]
  },
  {
   "cell_type": "code",
   "execution_count": null,
   "metadata": {},
   "outputs": [],
   "source": [
    "instance.dimension\n",
    "\n",
    "instance.get_nodes()\n",
    "print(\"List of nodes: \", list(instance.get_nodes()))\n",
    "\n",
    "first_node = min(instance.get_nodes())\n",
    "first_node\n",
    "\n",
    "for i,j in instance.get_edges():\n",
    "    if i >= j:\n",
    "        continue\n",
    "    print(f\"edge {{ {i:2},{j:2} }} has weight {instance.wfunc(i,j):3}.\")\n"
   ]
  },
  {
   "cell_type": "markdown",
   "metadata": {},
   "source": [
    "You have already seen how to draw a graph, here is the relevant code again."
   ]
  },
  {
   "cell_type": "code",
   "execution_count": null,
   "metadata": {},
   "outputs": [],
   "source": [
    "G = instance.get_graph()\n",
    "if instance.is_depictable():\n",
    "    pos = {i: instance.get_display(i) for i in instance.get_nodes()}\n",
    "else:\n",
    "    pos = nx.drawing.layout.spring_layout(G)\n",
    "nx.draw_networkx_nodes(G, pos, node_color='#66a3ff', node_size=200)\n",
    "nx.draw_networkx_labels(G, pos, font_weight='bold' )\n",
    "nx.draw_networkx_edges(G, pos,  edge_color='#e6e6e6')"
   ]
  },
  {
   "cell_type": "markdown",
   "metadata": {},
   "source": [
    "# Implementing the standard model with subtour elimination in Gurobi\n",
    "We will implement the standard model with subtour elimination callback using binary variables $x_{ij} \\in \\{0,1\\}$ to indicate whether edge $\\{i,j\\}$ is being used in the tour. To avoid double counting edges, we employ the convention that $i < j$ for an edge $\\{i,j\\}$ and we will denote the resulting edge set by $E$. The formulation looks like this:\n",
    "\n",
    "\\begin{align}\n",
    "\\min\\;&\\sum_{\\{i,j\\} \\in E} c_{i,j} \\cdot x_{i,j}\\\\\n",
    "&\\sum_{j: \\{i,j\\} \\in E} x_{i,j} = 2 \\quad \\text{for all nodes $i$}\\\\\n",
    "&\\sum_{\\{i,j\\} \\in \\delta(S)} x_{ij} \\ge 2 \\quad \\text{for all $S \\subsetneq V$, $S \\ne \\emptyset$}\\\\\n",
    "&x_{i,j} \\in \\{0,1\\}\n",
    "\\end{align}"
   ]
  },
  {
   "cell_type": "markdown",
   "metadata": {},
   "source": [
    "## Creating the variables\n",
    "We start by creating the model and the variables. Notice that we already define the objective function by using the `obj` parameter upon variable creation."
   ]
  },
  {
   "cell_type": "code",
   "execution_count": null,
   "metadata": {},
   "outputs": [],
   "source": [
    "import gurobipy as grb\n",
    "\n",
    "model = grb.Model(name=\"Subtour TSP formulation\")\n",
    "\n",
    "x = grb.tupledict()\n",
    "for i,j in instance.get_edges():\n",
    "    if i < j:\n",
    "        x[i,j] = model.addVar(obj=instance.wfunc(i,j), vtype=grb.GRB.BINARY, name=f\"x[{i},{j}]\")"
   ]
  },
  {
   "cell_type": "markdown",
   "metadata": {},
   "source": [
    "## Adding the degree constraints\n",
    "Next, we add the constraints for our model with the exception of the subtour elimination constraints. We use the sum method of our variables to express the summation in an elegant way."
   ]
  },
  {
   "cell_type": "code",
   "execution_count": null,
   "metadata": {},
   "outputs": [],
   "source": [
    "for i in instance.get_nodes():\n",
    "    model.addConstr(x.sum(i,'*') + x.sum('*',i) == 2, name=f\"degree_ctr[{i}]\")"
   ]
  },
  {
   "cell_type": "markdown",
   "metadata": {},
   "source": [
    "## Starting the Optimization Process\n",
    "Finally, we set the objective to minimization and call the optimizer."
   ]
  },
  {
   "cell_type": "code",
   "execution_count": null,
   "metadata": {},
   "outputs": [],
   "source": [
    "model.ModelSense = grb.GRB.MINIMIZE\n",
    "model.reset()\n",
    "model.optimize()"
   ]
  },
  {
   "cell_type": "markdown",
   "metadata": {},
   "source": [
    "## Querying and Visualizing the Solution\n",
    "Before we visualize our result, let us look at a few key figures of our solution."
   ]
  },
  {
   "cell_type": "code",
   "execution_count": null,
   "metadata": {},
   "outputs": [],
   "source": [
    "model.ObjVal"
   ]
  },
  {
   "cell_type": "code",
   "execution_count": null,
   "metadata": {},
   "outputs": [],
   "source": [
    "solution_edges = [(i,j) for i,j in x.keys() if x[i,j].x > 0.9]\n",
    "solution_edges"
   ]
  },
  {
   "cell_type": "markdown",
   "metadata": {},
   "source": [
    "For debugging purposes, it might be helpful to export the model held by Gurobi into a human-readable format:"
   ]
  },
  {
   "cell_type": "code",
   "execution_count": null,
   "metadata": {},
   "outputs": [],
   "source": [
    "model.write('test.lp')"
   ]
  },
  {
   "cell_type": "markdown",
   "metadata": {},
   "source": [
    " Finally, let us visualize the solution using NetworkX. In this case, we need to prescribe positions and draw the nodes and two layers of edges separately."
   ]
  },
  {
   "cell_type": "code",
   "execution_count": null,
   "metadata": {},
   "outputs": [],
   "source": [
    "if instance.is_depictable():\n",
    "    pos = {i: instance.get_display(i) for i in instance.get_nodes()}\n",
    "else:\n",
    "    pos = nx.drawing.layout.spring_layout(G)\n",
    "nx.draw_networkx_nodes(G, pos, node_color='#66a3ff', node_size=500)\n",
    "nx.draw_networkx_labels(G, pos, font_weight='bold' )\n",
    "nx.draw_networkx_edges(G, pos,  edge_color='#e6e6e6')\n",
    "nx.draw_networkx_edges(G, pos,  edgelist=solution_edges, edge_color='#ffa31a', width=4)"
   ]
  },
  {
   "cell_type": "markdown",
   "metadata": {},
   "source": [
    "## Subtour elimination\n",
    "As you can hopefully see (depending on the instance you selected), the solution may contain a subtour. Let us add a callback to detect and eliminate subtours in an integer solution. \n",
    "\n",
    "We start by defining a function that, given a list of edges, finds a subtour if there is one. For a more concise implementation, we use a function of networkx to find such a subtour: We construct an auxiliary graph $G_{\\text{aux}}$, find a cycle in this graph and return just the nodes contained in this cycle."
   ]
  },
  {
   "cell_type": "code",
   "execution_count": null,
   "metadata": {},
   "outputs": [],
   "source": [
    "def find_subtour_set(nodes, edges):\n",
    "    G_aux = nx.Graph()\n",
    "    G_aux.add_nodes_from(nodes)\n",
    "    G_aux.add_edges_from(edges)\n",
    "    return set(itertools.chain(*nx.find_cycle(G_aux)))\n",
    "\n",
    "find_subtour_set(instance.get_nodes(), [(i,j) for i,j in x.keys() if x[i,j].x > 0.9])"
   ]
  },
  {
   "cell_type": "markdown",
   "metadata": {},
   "source": [
    "### Define a callback\n",
    "Next, we need to define a callback function that adds a violated subtour inequality if one exists. In Gurobi, there is just one \"global\" callback function that two parameters: The `model` and a constant called `where` (a \"Callback Code\") that indicates at which position in the optimization process the callback has been invoked. The documentation contains a list of the available codes at http://www.gurobi.com/documentation/8.0/refman/callback_codes.html#sec:CallbackCodes. We want our callback to spring into action whenever a new integer solution has been found, so the relevant callback code is `GRB.Callback.MIPSOL`.\n",
    "\n",
    "Notice that we can only access parameters and current values of our model through the model object, not through the variables we have defined above. The model supplies a number of `cbGet...` methods for this purpose. To access our variables, we need to define a _user variable_ in the model that stores this information and makes it accessible in the callback. User variables can be any member of the model objects that starts with an underscore. We will add a parameter `_vars` to our model that simply stores the x variables and then use this parameter in the callback to access the current solution.\n",
    "\n",
    "To add a new constraint, we use the method `cbLazy` of our model that adds a new lazy constraint. The node will then be re-evaluated automatically.\n",
    "\n",
    "### Subtour Elimination Callback\n",
    " **Task 1:** In the following function, complete the definition of the `cut_edges` list to make the subtour elimination work properly."
   ]
  },
  {
   "cell_type": "code",
   "execution_count": null,
   "metadata": {},
   "outputs": [],
   "source": [
    "def subtour_callback(model, where):\n",
    "    if where == grb.GRB.Callback.MIPSOL:\n",
    "        sol = model.cbGetSolution(model._vars)\n",
    "        S = find_subtour_set(model._instance.get_nodes(), [(i,j) for i,j in model._vars.keys() if sol[i,j] > 0.9])\n",
    "        if len(S) < model._instance.dimension:\n",
    "            # TODO: cut_edges\n",
    "            cut_edges = [(i,j) for i,j in model._vars.keys() if ...]\n",
    "            model.cbLazy(sum(model._vars[i,j] for i,j in cut_edges) >= 2)"
   ]
  },
  {
   "cell_type": "markdown",
   "metadata": {},
   "source": [
    "### Add Callback to the Model \n",
    "Let us now add the variables to the model and resolve, this time using the callback. Also, we need to switch on lazy constraints by setting the appropropriate parameter. The callback function is simply passed as a parameter to the optimizer."
   ]
  },
  {
   "cell_type": "code",
   "execution_count": null,
   "metadata": {},
   "outputs": [],
   "source": [
    "model._vars = x # for use in the callback\n",
    "model._instance = instance # for use in the callback\n",
    "model.reset()\n",
    "model.Params.lazyConstraints = 1 # use lazy constraints\n",
    "model.optimize(subtour_callback) # use callback to add lazy constraints"
   ]
  },
  {
   "cell_type": "markdown",
   "metadata": {},
   "source": [
    "### Results\n",
    "Let's have a look at the results."
   ]
  },
  {
   "cell_type": "code",
   "execution_count": null,
   "metadata": {},
   "outputs": [],
   "source": [
    "model.ObjVal"
   ]
  },
  {
   "cell_type": "code",
   "execution_count": null,
   "metadata": {},
   "outputs": [],
   "source": [
    "solution_edges = [(i,j) for i,j in x.keys() if x[i,j].x > 0.9]\n",
    "solution_edges"
   ]
  },
  {
   "cell_type": "code",
   "execution_count": null,
   "metadata": {},
   "outputs": [],
   "source": [
    "if instance.is_depictable():\n",
    "    pos = {i: instance.get_display(i) for i in instance.get_nodes()}\n",
    "else:\n",
    "    pos = nx.drawing.layout.spring_layout(G)\n",
    "nx.draw_networkx_nodes(G, pos, node_color='#66a3ff', node_size=500)\n",
    "nx.draw_networkx_labels(G, pos, font_weight='bold' )\n",
    "nx.draw_networkx_edges(G, pos,  edge_color='#e6e6e6')\n",
    "nx.draw_networkx_edges(G, pos,  edgelist=solution_edges, edge_color='#ffa31a', width=4)"
   ]
  },
  {
   "cell_type": "markdown",
   "metadata": {},
   "source": [
    "## Fractional Subtour Elimination\n",
    "Finally, let us try to implement a separation procedure for subtour elimination constraints that works on the relaxation and does not need an integer solution. This can be done by solving a minimum cut problem on an auxiliary graph where we fix an arbitrary source node (we will use node $1$) and iterate through all possible target nodes until we find a minimum cut that has a value of less than $2$. For this cut, the corresponding subtour elimination constraint is inserted as a lazy cut. We modify our callback to use the callback code `MIPNODE` instead of `MIPSOL` and query `GRB.Callback.MIPNODE_STATUS` to see whether the node has already been solved to (fractional) optimality. For computing the minimum cut we again use an algorithm provided by the `networkx` package.\n",
    "Note that we have substituted `cbGetSolution` by `cbGetNodeRel`, as a solution is not generally available at any node. Also, we have to include the `MIPSOL` callback branch, because `MIPNODE` might not be called for nodes that yield an integer optimum right away.\n"
   ]
  },
  {
   "cell_type": "markdown",
   "metadata": {},
   "source": [
    "### Define Separation Method"
   ]
  },
  {
   "cell_type": "code",
   "execution_count": null,
   "metadata": {},
   "outputs": [],
   "source": [
    "import itertools\n",
    "def find_minimum_cut_partition(instance, sol):\n",
    "    G_flow = instance.get_graph()\n",
    "    for i,j in G_flow.edges():\n",
    "            if (i,j) in sol:\n",
    "                G_flow[i][j]['capacity'] = sol[i,j]\n",
    "            else:\n",
    "                G_flow[i][j]['capacity'] = 0\n",
    "    for t in G_flow.nodes() - {1}:\n",
    "        cut_value, S = nx.minimum_cut(G_flow, 1, t, capacity='capacity')\n",
    "        if cut_value < 2:\n",
    "            return S[0]\n",
    "    return set() #no cut with value < 2 has been found"
   ]
  },
  {
   "cell_type": "markdown",
   "metadata": {},
   "source": [
    "### Subtour Elimination Callback\n",
    "**Task 2:** In the following callback, fill in the code for adding the correct subtour elimination inequalities."
   ]
  },
  {
   "cell_type": "code",
   "execution_count": null,
   "metadata": {},
   "outputs": [],
   "source": [
    "def subtour_elimination_callback(model, where):\n",
    "    if where == grb.GRB.Callback.MIPSOL: # MIP solution found\n",
    "        sol = model.cbGetSolution(model._vars)\n",
    "        # ... add cut here\n",
    "    elif where == grb.GRB.Callback.MIPNODE and model.cbGet(grb.GRB.Callback.MIPNODE_STATUS) == grb.GRB.Status.OPTIMAL:\n",
    "    # current MIP node has been solved to LP optimality\n",
    "    # add fractional cut here\n",
    "        sol = model.cbGetNodeRel(model._vars)"
   ]
  },
  {
   "cell_type": "markdown",
   "metadata": {},
   "source": [
    "### Optimize"
   ]
  },
  {
   "cell_type": "code",
   "execution_count": null,
   "metadata": {},
   "outputs": [],
   "source": [
    "model._vars = x\n",
    "model._instance = instance\n",
    "model.reset()\n",
    "model.Params.lazyConstraints = 1\n",
    "model.optimize(subtour_elimination_callback)"
   ]
  },
  {
   "cell_type": "markdown",
   "metadata": {},
   "source": [
    "### Results"
   ]
  },
  {
   "cell_type": "code",
   "execution_count": null,
   "metadata": {},
   "outputs": [],
   "source": [
    "model.ObjVal"
   ]
  },
  {
   "cell_type": "code",
   "execution_count": null,
   "metadata": {},
   "outputs": [],
   "source": [
    "solution_edges = [(i,j) for i,j in x.keys() if x[i,j].x > 0.9]\n",
    "solution_edges"
   ]
  },
  {
   "cell_type": "code",
   "execution_count": null,
   "metadata": {},
   "outputs": [],
   "source": [
    "if instance.is_depictable():\n",
    "    pos = {i: instance.get_display(i) for i in instance.get_nodes()}\n",
    "else:\n",
    "    pos = nx.drawing.layout.spring_layout(G)\n",
    "nx.draw_networkx_nodes(G, pos, node_color='#66a3ff', node_size=500)\n",
    "nx.draw_networkx_labels(G, pos, font_weight='bold' )\n",
    "nx.draw_networkx_edges(G, pos,  edge_color='#e6e6e6')\n",
    "nx.draw_networkx_edges(G, pos,  edgelist=solution_edges, edge_color='#ffa31a', width=4)"
   ]
  },
  {
   "cell_type": "markdown",
   "metadata": {},
   "source": [
    "### Comparison\n",
    "**Task 3:** Compare the two different callbacks with respect to running time and number of cuts added. Try different TSPLIB instances. Compare this formulation to MTZ.\n"
   ]
  },
  {
   "cell_type": "code",
   "execution_count": null,
   "metadata": {},
   "outputs": [],
   "source": []
  }
 ],
 "metadata": {
  "kernelspec": {
   "display_name": "Python 3",
   "language": "python",
   "name": "python3"
  },
  "language_info": {
   "codemirror_mode": {
    "name": "ipython",
    "version": 3
   },
   "file_extension": ".py",
   "mimetype": "text/x-python",
   "name": "python",
   "nbconvert_exporter": "python",
   "pygments_lexer": "ipython3",
   "version": "3.7.1"
  }
 },
 "nbformat": 4,
 "nbformat_minor": 2
}
