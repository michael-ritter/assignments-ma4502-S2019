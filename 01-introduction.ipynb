{
 "cells": [
  {
   "cell_type": "markdown",
   "metadata": {},
   "source": [
    "# Introduction"
   ]
  },
  {
   "cell_type": "markdown",
   "metadata": {},
   "source": [
    "## Python Basics\n",
    "In this course, we will use Python as our programming language. For those of you who have not used python before, here is a brief introduction.\n",
    "\n",
    "### Documentation\n",
    "Documentation for Python is available at https://docs.python.org/3/.\n",
    "\n",
    "### Output, Calculation, Variables\n",
    "In Jupyter Labs, the result of the last operation in a cell will be displayed automatically (just press Shift+Enter to execute the cell). But if you need to output any messages in your functions, loops, etc., you can use the print command to do this."
   ]
  },
  {
   "cell_type": "code",
   "execution_count": null,
   "metadata": {},
   "outputs": [],
   "source": [
    "print('Hello, World!')"
   ]
  },
  {
   "cell_type": "markdown",
   "metadata": {},
   "source": [
    "Python knows the usual mathematical operations `+`, `-`, `*` and `/`. In addition, `//` can be used for integer division, `%` returns the modulus and `**` is exponentiation. "
   ]
  },
  {
   "cell_type": "code",
   "execution_count": null,
   "metadata": {},
   "outputs": [],
   "source": [
    "3*5"
   ]
  },
  {
   "cell_type": "code",
   "execution_count": null,
   "metadata": {},
   "outputs": [],
   "source": [
    "7-3"
   ]
  },
  {
   "cell_type": "code",
   "execution_count": null,
   "metadata": {},
   "outputs": [],
   "source": [
    "5//3"
   ]
  },
  {
   "cell_type": "code",
   "execution_count": null,
   "metadata": {},
   "outputs": [],
   "source": [
    "5%3"
   ]
  },
  {
   "cell_type": "code",
   "execution_count": null,
   "metadata": {},
   "outputs": [],
   "source": [
    "3**5"
   ]
  },
  {
   "cell_type": "markdown",
   "metadata": {},
   "source": [
    "Comparisons can be made with `<`, `>`, `<=`, `>=`, `==`, `!=`. Any truth value may be negated with `not` or combined with `and` and `or`."
   ]
  },
  {
   "cell_type": "code",
   "execution_count": null,
   "metadata": {},
   "outputs": [],
   "source": [
    "5 <= 7"
   ]
  },
  {
   "cell_type": "code",
   "execution_count": null,
   "metadata": {},
   "outputs": [],
   "source": [
    "(8 < 9) and (3 >= 2)"
   ]
  },
  {
   "cell_type": "code",
   "execution_count": null,
   "metadata": {},
   "outputs": [],
   "source": [
    "(8 < 9) and not (3 >= 2)"
   ]
  },
  {
   "cell_type": "code",
   "execution_count": null,
   "metadata": {},
   "outputs": [],
   "source": [
    "4 == 4"
   ]
  },
  {
   "cell_type": "markdown",
   "metadata": {},
   "source": [
    "Variables are assigned through `=`. Variable names begin with a letter and may contain letters, numbers and underscores. You do not have to declare variables before assigning a value to them and their type will change according to the value they currently hold. Variables that hold no value have the special value `None`. The values stored in a variable can be interpolated into a string using the \"f-string\" syntax like this: `f\"The Value is {value}.\""
   ]
  },
  {
   "cell_type": "code",
   "execution_count": null,
   "metadata": {},
   "outputs": [],
   "source": [
    "a = 5; b = 7"
   ]
  },
  {
   "cell_type": "code",
   "execution_count": null,
   "metadata": {},
   "outputs": [],
   "source": [
    "a+b"
   ]
  },
  {
   "cell_type": "code",
   "execution_count": null,
   "metadata": {},
   "outputs": [],
   "source": [
    "print(f\"The value of a*b is {a*b}.\")"
   ]
  },
  {
   "cell_type": "markdown",
   "metadata": {},
   "source": [
    "### Sets, Lists, Dictionaries\n",
    "In addition to the elementary data types, you can use lists, sets and dictionaries to store collections of data.\n",
    "* **Lists** are ordered and indexed from `0`. They can contain elements of different type, may contain the same value more than once and are initialized through `[]`. Membership can be tested through `in`."
   ]
  },
  {
   "cell_type": "code",
   "execution_count": null,
   "metadata": {},
   "outputs": [],
   "source": [
    "L = [3,4,4,8]"
   ]
  },
  {
   "cell_type": "code",
   "execution_count": null,
   "metadata": {},
   "outputs": [],
   "source": [
    "len(L)"
   ]
  },
  {
   "cell_type": "code",
   "execution_count": null,
   "metadata": {},
   "outputs": [],
   "source": [
    "3 in L"
   ]
  },
  {
   "cell_type": "code",
   "execution_count": null,
   "metadata": {},
   "outputs": [],
   "source": [
    "5 in L"
   ]
  },
  {
   "cell_type": "code",
   "execution_count": null,
   "metadata": {},
   "outputs": [],
   "source": [
    "L.append(5);L"
   ]
  },
  {
   "cell_type": "code",
   "execution_count": null,
   "metadata": {},
   "outputs": [],
   "source": [
    "L[2]"
   ]
  },
  {
   "cell_type": "code",
   "execution_count": null,
   "metadata": {},
   "outputs": [],
   "source": [
    "L[2:4]"
   ]
  },
  {
   "cell_type": "markdown",
   "metadata": {},
   "source": [
    "* **Sets** are unordered and not indexed. They can contain elements of different type, but each element may only be contained once. They are initialized through `{}` and membership can be tested with `in`.\n"
   ]
  },
  {
   "cell_type": "code",
   "execution_count": null,
   "metadata": {},
   "outputs": [],
   "source": [
    "S = {3,4,4,8}"
   ]
  },
  {
   "cell_type": "code",
   "execution_count": null,
   "metadata": {},
   "outputs": [],
   "source": [
    "len(S)"
   ]
  },
  {
   "cell_type": "code",
   "execution_count": null,
   "metadata": {},
   "outputs": [],
   "source": [
    "S"
   ]
  },
  {
   "cell_type": "code",
   "execution_count": null,
   "metadata": {},
   "outputs": [],
   "source": [
    "S.add(5)"
   ]
  },
  {
   "cell_type": "code",
   "execution_count": null,
   "metadata": {},
   "outputs": [],
   "source": [
    "S"
   ]
  },
  {
   "cell_type": "code",
   "execution_count": null,
   "metadata": {},
   "outputs": [],
   "source": [
    "5 in S"
   ]
  },
  {
   "cell_type": "markdown",
   "metadata": {},
   "source": [
    "* **Dictionaries** store key-value-assignments, where keys and values may be (with some restrictions) any data type. They do not have an order and are initialized through `{key: value}`. Access to the elements is possible by `D[key]`, not existing keys will automatically be added. Testing for existence of a key is possible through `in`."
   ]
  },
  {
   "cell_type": "code",
   "execution_count": null,
   "metadata": {},
   "outputs": [],
   "source": [
    "D = {'first_name': 'Michael', 'last_name': 'Ritter'}"
   ]
  },
  {
   "cell_type": "code",
   "execution_count": null,
   "metadata": {},
   "outputs": [],
   "source": [
    "D['first_name']"
   ]
  },
  {
   "cell_type": "code",
   "execution_count": null,
   "metadata": {},
   "outputs": [],
   "source": [
    "D['office'] = '02.04.057'"
   ]
  },
  {
   "cell_type": "code",
   "execution_count": null,
   "metadata": {},
   "outputs": [],
   "source": [
    "D"
   ]
  },
  {
   "cell_type": "code",
   "execution_count": null,
   "metadata": {},
   "outputs": [],
   "source": [
    "'first_name' in D"
   ]
  },
  {
   "cell_type": "markdown",
   "metadata": {},
   "source": [
    "### Conditionals and Loops\n",
    "The `if` construct is used to execution code under a specific condition:\n",
    "```\n",
    "if condition:\n",
    "    # code\n",
    "elif other_condition:\n",
    "    # more code \n",
    "else:\n",
    "    # other code\n",
    "```\n",
    "Note that blocks in Python are denoted through indentation. The level of indentation within a block has to be equal."
   ]
  },
  {
   "cell_type": "code",
   "execution_count": null,
   "metadata": {},
   "outputs": [],
   "source": [
    "a = 5;\n",
    "if a >= 7:\n",
    "    print(\"a is large\")\n",
    "elif a <= 2:\n",
    "    print(\"a is small\")\n",
    "else:\n",
    "    print(\"a is neither large nor small\")"
   ]
  },
  {
   "cell_type": "markdown",
   "metadata": {},
   "source": [
    "A for-loop iterates through all elements of a list, set, dictionary key set or range:"
   ]
  },
  {
   "cell_type": "code",
   "execution_count": null,
   "metadata": {},
   "outputs": [],
   "source": [
    "for i in range(10):\n",
    "    print(f\"{i}*7 = {i*7}\")"
   ]
  },
  {
   "cell_type": "code",
   "execution_count": null,
   "metadata": {},
   "outputs": [],
   "source": [
    "for i in L:\n",
    "    print(i)"
   ]
  },
  {
   "cell_type": "code",
   "execution_count": null,
   "metadata": {},
   "outputs": [],
   "source": [
    "for key in D:\n",
    "    print(f\"{key} -> {D[key]}\")"
   ]
  },
  {
   "cell_type": "code",
   "execution_count": null,
   "metadata": {},
   "outputs": [],
   "source": [
    "for key,value in D.items():\n",
    "    print(f\"{key} -> {value}\")"
   ]
  },
  {
   "cell_type": "markdown",
   "metadata": {},
   "source": [
    "New lists (sets, dictionaries) may be created on the fly by a loop-like construct called a **list comprehension**:"
   ]
  },
  {
   "cell_type": "code",
   "execution_count": null,
   "metadata": {},
   "outputs": [],
   "source": [
    "L_new = [i*4 for i in L]; L_new"
   ]
  },
  {
   "cell_type": "markdown",
   "metadata": {},
   "source": [
    "## Functions\n",
    "Functions can be declared through the keyword `def`, a function name and a list of parameters. For the function call, use the functions name followed by `()` that contain the necessary parameters. Parameters may be _named_ or _positional_, usually both is possible (for named parameters the order is arbitrary). The function \"body\" is again denoted by an indented block. Parameters can have default values.\n",
    "A function may return a value through the `return` keyword."
   ]
  },
  {
   "cell_type": "code",
   "execution_count": null,
   "metadata": {},
   "outputs": [],
   "source": [
    "def greet(name = \"Sir/Madam\"):\n",
    "   print(f\"Hey {name}! How are you?\")"
   ]
  },
  {
   "cell_type": "code",
   "execution_count": null,
   "metadata": {},
   "outputs": [],
   "source": [
    "greet('Michael')"
   ]
  },
  {
   "cell_type": "code",
   "execution_count": null,
   "metadata": {},
   "outputs": [],
   "source": [
    "greet(name='Michael')"
   ]
  },
  {
   "cell_type": "code",
   "execution_count": null,
   "metadata": {},
   "outputs": [],
   "source": [
    "greet()"
   ]
  },
  {
   "cell_type": "code",
   "execution_count": 78,
   "metadata": {},
   "outputs": [],
   "source": [
    "import math # see below for explanation\n",
    "\n",
    "# compute n-th Fibonacci number\n",
    "def fibonacci(n):\n",
    "    A = (1+math.sqrt(5))/2\n",
    "    B = (1-math.sqrt(5))/2\n",
    "    return (A**n - B**n)/(A-B)   "
   ]
  },
  {
   "cell_type": "code",
   "execution_count": 83,
   "metadata": {},
   "outputs": [
    {
     "data": {
      "text/plain": [
       "{'f_0': 0,\n",
       " 'f_1': 1,\n",
       " 'f_2': 1,\n",
       " 'f_3': 2,\n",
       " 'f_4': 3,\n",
       " 'f_5': 5,\n",
       " 'f_6': 8,\n",
       " 'f_7': 13,\n",
       " 'f_8': 21,\n",
       " 'f_9': 34,\n",
       " 'f_10': 55,\n",
       " 'f_11': 89,\n",
       " 'f_12': 144,\n",
       " 'f_13': 233,\n",
       " 'f_14': 377,\n",
       " 'f_15': 610,\n",
       " 'f_16': 987,\n",
       " 'f_17': 1597,\n",
       " 'f_18': 2584,\n",
       " 'f_19': 4181}"
      ]
     },
     "execution_count": 83,
     "metadata": {},
     "output_type": "execute_result"
    }
   ],
   "source": [
    "{f\"f_{n}\": int(fibonacci(n)) for n in range (20)}"
   ]
  },
  {
   "cell_type": "markdown",
   "metadata": {},
   "source": [
    "## Classes\n",
    "Classes encapsulate data and functions. They can be used to combine data and corresponding functions into a \"unit\" that can act like a new data type. Create them using the `class` keyword with an indented block below. Functions that are contained in a class always take the special parameter `self` as the first parameter. That can be used inside the function to access the other members of the class through `self.member`. The special method `__init(self)__` is called upon creation of an object of that class and may be used to set initial parameters. It can also take (mandatory) parameters."
   ]
  },
  {
   "cell_type": "code",
   "execution_count": null,
   "metadata": {},
   "outputs": [],
   "source": [
    "import math\n",
    "\n",
    "class Point:\n",
    "    def __init__(self,x,y):\n",
    "        self.x = x\n",
    "        self.y = y\n",
    "        \n",
    "    def norm(self):\n",
    "        return math.sqrt(self.x**2 + self.y**2)"
   ]
  },
  {
   "cell_type": "code",
   "execution_count": null,
   "metadata": {},
   "outputs": [],
   "source": [
    "A = Point(3,6)"
   ]
  },
  {
   "cell_type": "code",
   "execution_count": null,
   "metadata": {},
   "outputs": [],
   "source": [
    "A.x"
   ]
  },
  {
   "cell_type": "code",
   "execution_count": null,
   "metadata": {},
   "outputs": [],
   "source": [
    "A.norm()"
   ]
  },
  {
   "cell_type": "markdown",
   "metadata": {},
   "source": [
    "## Modules\n",
    "In the example above, We also used the `import` statement. Its purpose is to \"pull in\" functions, classes or constants that were declared in some other file. Python comes with a wide variety of useful modules (the Python standard library) that can be included in your code via `import`. \n",
    "\n",
    "To access members of a module, you can either prefix them with the module name (after you have imported the module) or you can explicitly import a member and then access it its name directly via `from modulename import member`.\n",
    "\n",
    "You may also declare a different name in the import statement with `import modulename as short` to avoid name clashes or to use shortands."
   ]
  },
  {
   "cell_type": "code",
   "execution_count": null,
   "metadata": {},
   "outputs": [],
   "source": [
    "from math import sin,cos"
   ]
  },
  {
   "cell_type": "code",
   "execution_count": null,
   "metadata": {},
   "outputs": [],
   "source": [
    "sin(4)"
   ]
  },
  {
   "cell_type": "code",
   "execution_count": null,
   "metadata": {},
   "outputs": [],
   "source": [
    "cos(math.pi*3)"
   ]
  }
 ],
 "metadata": {
  "kernelspec": {
   "display_name": "Python 3",
   "language": "python",
   "name": "python3"
  },
  "language_info": {
   "codemirror_mode": {
    "name": "ipython",
    "version": 3
   },
   "file_extension": ".py",
   "mimetype": "text/x-python",
   "name": "python",
   "nbconvert_exporter": "python",
   "pygments_lexer": "ipython3",
   "version": "3.7.3"
  }
 },
 "nbformat": 4,
 "nbformat_minor": 2
}
